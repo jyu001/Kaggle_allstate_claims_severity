{
 "cells": [
  {
   "cell_type": "markdown",
   "metadata": {},
   "source": [
    "# Part 4, Models Stacking and Validation"
   ]
  },
  {
   "cell_type": "code",
   "execution_count": 1,
   "metadata": {},
   "outputs": [
    {
     "name": "stderr",
     "output_type": "stream",
     "text": [
      "/Users/macssd/anaconda3/lib/python3.6/site-packages/h5py/__init__.py:36: FutureWarning: Conversion of the second argument of issubdtype from `float` to `np.floating` is deprecated. In future, it will be treated as `np.float64 == np.dtype(float).type`.\n",
      "  from ._conv import register_converters as _register_converters\n",
      "Using TensorFlow backend.\n"
     ]
    }
   ],
   "source": [
    "import tensorflow as tf\n",
    "#tf.python.control_flow_ops = tf\n",
    "\n",
    "import pickle\n",
    "import xgboost as xgb\n",
    "import pandas as pd\n",
    "import numpy as np\n",
    "import sys\n",
    "_stdout = sys.stdout\n",
    "\n",
    "sys.path.append('modules')\n",
    "\n",
    "import matplotlib.pyplot as plt\n",
    "from sklearn.linear_model import LinearRegression\n",
    "from sklearn.metrics import mean_absolute_error\n",
    "from sklearn.preprocessing import StandardScaler\n",
    "from sklearn.model_selection import GridSearchCV\n",
    "from scipy.sparse import csr_matrix, hstack\n",
    "from scipy.stats import iqr\n",
    "from sklearn.model_selection import KFold, train_test_split\n",
    "from keras.models import Sequential\n",
    "from keras.layers.advanced_activations import PReLU\n",
    "from keras.layers import Dense, Dropout, Activation, BatchNormalization\n",
    "from keras.callbacks import EarlyStopping\n",
    "from xgboost import XGBRegressor\n",
    "#from xgb_regressor import XGBoostRegressor\n",
    "#from stacker import Stacker\n",
    "\n",
    "%matplotlib inline"
   ]
  },
  {
   "cell_type": "code",
   "execution_count": 2,
   "metadata": {},
   "outputs": [],
   "source": [
    "# To follow conventional function names in sklearn, we implement fit and predict functions\n",
    "\n",
    "def xg_eval_mae(yhat, dtrain):\n",
    "    y = dtrain.get_label()\n",
    "    return 'mae', mean_absolute_error(np.exp(y), np.exp(yhat))\n",
    "\n",
    "class XGBoostRegressor(object):\n",
    "    def __init__(self, **kwargs):\n",
    "        self.params = kwargs\n",
    "        if 'num_boost_round' in self.params:\n",
    "            self.num_boost_round = self.params['num_boost_round']\n",
    "        self.params.update({'silent': 1, 'objective': 'reg:linear', 'seed': 0})\n",
    "        \n",
    "    def fit(self, x_train, y_train):\n",
    "        dtrain = xgb.DMatrix(x_train, y_train)\n",
    "        self.bst = xgb.train(params=self.params, dtrain=dtrain, num_boost_round=self.num_boost_round,\n",
    "                             feval=xg_eval_mae, maximize=False)\n",
    "        \n",
    "    def predict(self, x_pred):\n",
    "        dpred = xgb.DMatrix(x_pred)\n",
    "        return self.bst.predict(dpred)\n",
    "    \n",
    "    def kfold(self, x_train, y_train, nfold=5):\n",
    "        dtrain = xgb.DMatrix(x_train, y_train)\n",
    "        cv_rounds = xgb.cv(params=self.params, dtrain=dtrain, num_boost_round=self.num_boost_round,\n",
    "                           nfold=nfold, feval=xg_eval_mae, maximize=False, early_stopping_rounds=10)\n",
    "        return cv_rounds.iloc[-1,:]\n",
    "    \n",
    "    def plot_feature_importances(self):\n",
    "        feat_imp = pd.Series(self.bst.get_fscore()).sort_values(ascending=False)\n",
    "        feat_imp.plot(title='Feature Importances')\n",
    "        plt.ylabel('Feature Importance Score')\n",
    "        \n",
    "    def get_params(self, deep=True):\n",
    "        return self.params\n",
    " \n",
    "    def set_params(self, **params):\n",
    "        self.params.update(params)\n",
    "        return self"
   ]
  },
  {
   "cell_type": "code",
   "execution_count": 3,
   "metadata": {},
   "outputs": [
    {
     "name": "stderr",
     "output_type": "stream",
     "text": [
      "/Users/macssd/anaconda3/lib/python3.6/site-packages/sklearn/cross_validation.py:41: DeprecationWarning: This module was deprecated in version 0.18 in favor of the model_selection module into which all the refactored classes and functions are moved. Also note that the interface of the new CV iterators are different from that of this module. This module will be removed in 0.20.\n",
      "  \"This module will be removed in 0.20.\", DeprecationWarning)\n",
      "/Users/macssd/anaconda3/lib/python3.6/site-packages/sklearn/grid_search.py:42: DeprecationWarning: This module was deprecated in version 0.18 in favor of the model_selection module into which all the refactored classes and functions are moved. This module will be removed in 0.20.\n",
      "  DeprecationWarning)\n"
     ]
    }
   ],
   "source": [
    "import xgboost as xgb\n",
    "import pandas as pd\n",
    "import numpy as np\n",
    "import sys\n",
    "from sklearn.linear_model import LinearRegression\n",
    "from sklearn.metrics import mean_absolute_error\n",
    "from sklearn.preprocessing import StandardScaler\n",
    "from sklearn.grid_search import GridSearchCV\n",
    "from scipy.sparse import csr_matrix, hstack\n",
    "from sklearn.cross_validation import KFold, train_test_split\n",
    "from keras.models import Sequential\n",
    "from keras.layers.advanced_activations import PReLU\n",
    "from keras.layers import Dense, Dropout, Activation, BatchNormalization\n",
    "from keras.callbacks import EarlyStopping\n",
    "from xgboost import XGBRegressor\n",
    "#from xgb_regressor import XGBoostRegressor\n",
    "\n",
    "class Stacker(object):\n",
    "    def __init__(self, xgboost_func, mlp_func, train_path='train.csv', seed=0, test_size=0.25, **kwargs):\n",
    "        self.seed = seed\n",
    "        self.test_size = test_size\n",
    "        self.xgboost_func = xgboost_func\n",
    "        self.train_path = train_path\n",
    "        self.mlp_func = mlp_func\n",
    "        self.mlp_fit_kwargs = kwargs.get('mlp_fit_kwargs', {'nb_epoch': 30, 'batch_size': 128, 'verbose': 1})\n",
    "        self.mlp_predict_kwargs = kwargs.get('mlp_predict_kwargs', {'batch_size': 256, 'verbose': 1})\n",
    "\n",
    "    def stack_and_compare(self):\n",
    "        xg_xtr, xg_xte, xg_ytr, xg_yte  = self.preprocess(encoding='label', transform_label=True)\n",
    "        mlp_xtr, mlp_xte, mlp_ytr, mlp_yte = self.preprocess(encoding='one-hot', transform_label=False)\n",
    "        \n",
    "        assert mean_absolute_error(np.exp(xg_ytr), mlp_ytr) < 0.001 # Sanity check\n",
    "        assert mean_absolute_error(np.exp(xg_yte), mlp_yte) < 0.001 # Sanity check\n",
    "\n",
    "        xgb_folds = self.predict_folds(self.xgboost_func, xg_xtr, xg_ytr)\n",
    "        mlp_folds = np.log(self.predict_folds(self.mlp_func, mlp_xtr, mlp_ytr, \n",
    "                           fit_kwargs=self.mlp_fit_kwargs, predict_kwargs=self.mlp_predict_kwargs))\n",
    "\n",
    "        xgb_pred_hold = self.predict_holdout(self.xgboost_func, xg_xtr, xg_ytr, xg_xte)\n",
    "        mlp_pred_hold = np.log(self.predict_holdout(self.mlp_func, mlp_xtr, mlp_ytr, mlp_xte, \n",
    "                               fit_kwargs=self.mlp_fit_kwargs, predict_kwargs=self.mlp_predict_kwargs))\n",
    "\n",
    "        score_xgb, score_mlp = self.evaluate_estimators(xgb_pred_hold, mlp_pred_hold, xg_yte)\n",
    "        print ('Single model performance:', 'xgb:', score_xgb, ',', 'mlp:', score_mlp)\n",
    "\n",
    "        stacker = self.stack(xgb_folds, mlp_folds, xg_ytr)\n",
    "        score_stacker = self.evaluate_stacker(stacker, xgb_pred_hold, mlp_pred_hold, xg_yte)\n",
    "\n",
    "        print ({'xgb': score_xgb, 'mlp': score_mlp, 'stacker': score_stacker})\n",
    "        return {'xgb': score_xgb, 'mlp': score_mlp, 'stacker': score_stacker}\n",
    "\n",
    "    def preprocess(self, encoding='one-hot', transform_label=False):\n",
    "        train = pd.read_csv(self.train_path)\n",
    "        if transform_label: \n",
    "            train['loss'] = np.log(train['loss'])\n",
    "        cat_features = [x for x in train.select_dtypes(include=['object']).columns if x not in ['id','loss']]\n",
    "        if encoding == 'one-hot':\n",
    "            train = pd.get_dummies(data=train, columns=cat_features)\n",
    "        elif encoding == 'label':\n",
    "            for c in range(len(cat_features)): train[cat_features[c]] = train[cat_features[c]].astype('category').cat.codes\n",
    "        else:\n",
    "            raise Exception(\"Correct value of 'encoding' is required. Possible values of encoding=['one-hot', 'label']\")\n",
    "        features = [x for x in train.columns if x not in ['id','loss']]\n",
    "        train_x = np.array(train[features])\n",
    "        train_y = np.array(train['loss'])\n",
    "        x_tr, x_te, y_tr, y_te = train_test_split(train_x, train_y, test_size=self.test_size, random_state=self.seed)\n",
    "        return x_tr, x_te, y_tr, y_te\n",
    "\n",
    "    def predict_folds(self, model_func, xtrain, ytrain, fit_kwargs={}, predict_kwargs={}):\n",
    "        folds = KFold(len(ytrain), shuffle=False, n_folds=3)\n",
    "        fold_preds = np.zeros(len(ytrain))\n",
    "        for k, (train_index, test_index) in enumerate(folds):\n",
    "            xtr = xtrain[train_index]\n",
    "            ytr = ytrain[train_index]\n",
    "            estimator = model_func(xtrain.shape[1])\n",
    "            xte, yte = xtrain[test_index], ytrain[test_index]\n",
    "            estimator.fit(xtr, ytr, **fit_kwargs)\n",
    "            fold_preds[test_index] = estimator.predict(xte, **predict_kwargs)\n",
    "        return fold_preds\n",
    "\n",
    "    def predict_holdout(self, model_func, xtrain, ytrain, xtest, fit_kwargs={}, predict_kwargs={}):\n",
    "        estimator = model_func(xtrain.shape[1])\n",
    "        estimator.fit(xtrain, ytrain, **fit_kwargs)\n",
    "        return estimator.predict(xtest, **predict_kwargs)\n",
    "\n",
    "    def evaluate_estimators(self, xgb_pred, mlp_pred, test_y):\n",
    "        return mean_absolute_error(np.exp(xgb_pred), np.exp(test_y)), mean_absolute_error(np.exp(mlp_pred), np.exp(test_y))\n",
    "\n",
    "    def stack(self, xgb_oof, mlp_oof, oof_y):\n",
    "        assert len(xgb_oof) == len(mlp_oof)\n",
    "        oof_x = np.vstack((xgb_oof, mlp_oof)).T\n",
    "        metaestimator = LinearRegression()\n",
    "        metaestimator.fit(oof_x, oof_y)\n",
    "        return metaestimator\n",
    "\n",
    "    def evaluate_stacker(self, stacker, xgb_pred, mlp_pred, holdout_y):\n",
    "        holdout_pred = np.hstack((xgb_pred.reshape(len(xgb_pred), 1), np.array(mlp_pred)))\n",
    "        predictions = stacker.predict(holdout_pred)\n",
    "        score = mean_absolute_error(np.exp(predictions), np.exp(holdout_y))\n",
    "        return score"
   ]
  },
  {
   "cell_type": "markdown",
   "metadata": {},
   "source": [
    "In the final part of this capstone, we implement a simple stacker model in which we generate predictions using two models: XGBoost and MLP. Then we combine them in a single dataset and train a second level algorithm to get the final prediction.\n",
    "\n",
    "We are going to do a K-Fold stacking in which we train each model (level 0 model or just L0-model) on a subset of data, generate out-of-fold predictions and train the stacker (level 1 model, L1-model) on these predictions.\n",
    "\n",
    "As usual, use can use pretrained models and skip the heavy computation phase:"
   ]
  },
  {
   "cell_type": "code",
   "execution_count": 4,
   "metadata": {},
   "outputs": [],
   "source": [
    "USE_PRETRAINED = True"
   ]
  },
  {
   "cell_type": "markdown",
   "metadata": {},
   "source": [
    "## Methodology\n",
    "\n",
    "Our methodology which I took from [MLWave Ensembling Guide](http://mlwave.com/kaggle-ensembling-guide/) as well as from the winners of [Otto Group Classification Challenge](https://www.kaggle.com/c/otto-group-product-classification-challenge/forums/t/14335/1st-place-winner-solution-gilberto-titericz-stanislav-semenov) is as follows:\n",
    "\n",
    "* **Splitting.** Split the training set into K folds\n",
    "\n",
    "\n",
    "* **Out-of-fold predictions**. Fit each L0-model on K-1 folds, generate predictions for the other fold. Repeat the process for all K folds. In the end, we get predictions for the whole training set (for which we also have labels).\n",
    "\n",
    "\n",
    "* **Fitting on the entire training set**. We fit each L0-model on the whole training set and get predictions for the test set. We combine predictions into a dataset, in which each feature is prediction of a single L0-model.\n",
    "\n",
    "\n",
    "* **Training L1**. We fit L1-model on out-of-fold predictions, while using corresponding labels from the training set as labels for L1. After that, we ask the L1-model get the final prediction using our combine dataset of L0 predictions.\n",
    "\n",
    "There is only one complication: we don't have the test set (we're not going to submit our prediction to Kaggle now), but we need to compare the performance of single L0-models with the stacker, as we'd like to make sure that L1-model works better than any of L0-models.\n",
    "\n",
    "To do this, we split our training dataset into train and test subsets. We will touch the test subset only once when we compare the performance of all the models (L0 vs L1).\n",
    "\n"
   ]
  },
  {
   "cell_type": "markdown",
   "metadata": {},
   "source": [
    "## Splitting\n",
    "\n",
    "### Preparing the data\n",
    "We trained our models on the same train set, but the preprocessing phase has been done differently for XGBoost and MLP. We have to replicate the same preprocessing for our ensemble phase. Let's revisit what we have to do for each model:\n",
    "\n",
    "* **XGBoost**: 1) log-transform the target feature, 2) use a label encoding for categorical features.\n",
    "\n",
    "\n",
    "* **MLP**: 1) use an one-hot encoding for categorical features.\n",
    "\n",
    "I'll be verbose in this section and apply all the transformations manually without writing an abstraction (say, a function or a class). We only have two models and there's no need to abstract the logic in our case."
   ]
  },
  {
   "cell_type": "code",
   "execution_count": 5,
   "metadata": {},
   "outputs": [
    {
     "name": "stdout",
     "output_type": "stream",
     "text": [
      "Let's see that we haven't messed up with data split:\n",
      "Training set X: (141238, 130) Y: (141238,)\n",
      "Test set X: (47080, 130) Y: (47080,)\n"
     ]
    }
   ],
   "source": [
    "# XGBoost\n",
    "\n",
    "trainxg = pd.read_csv('./data/train.csv')\n",
    "ntrain = trainxg.shape[0]\n",
    "\n",
    "trainxg['log_loss'] = np.log(trainxg['loss'])    \n",
    "features = [x for x in trainxg.columns if x not in ['id','loss', 'log_loss']]\n",
    "\n",
    "cat_features = [x for x in trainxg.select_dtypes(\n",
    "        include=['object']).columns if x not in ['id','loss', 'log_loss']]\n",
    "\n",
    "for c in range(len(cat_features)):\n",
    "    trainxg[cat_features[c]] = trainxg[cat_features[c]].astype('category').cat.codes\n",
    "\n",
    "trainxg_x = np.array(trainxg[features])\n",
    "trainxg_y = np.array(trainxg['log_loss'])\n",
    "\n",
    "# xg_xte, xg_yte are for the final performance check\n",
    "xg_xtr, xg_xte, xg_ytr, xg_yte = train_test_split(trainxg_x, trainxg_y, test_size=0.25, random_state=31337)\n",
    "\n",
    "print (\"Let's see that we haven't messed up with data split:\")\n",
    "print (\"Training set X:\", xg_xtr.shape, \"Y:\", xg_ytr.shape)\n",
    "print (\"Test set X:\", xg_xte.shape, \"Y:\", xg_yte.shape)"
   ]
  },
  {
   "cell_type": "code",
   "execution_count": 6,
   "metadata": {},
   "outputs": [
    {
     "name": "stdout",
     "output_type": "stream",
     "text": [
      "Let's see that we haven't messed up with data split:\n",
      "Training set X: (141238, 1153) Y: (141238,)\n",
      "Test set X: (47080, 1153) Y: (47080,)\n"
     ]
    }
   ],
   "source": [
    "# MLP\n",
    "\n",
    "trainmlp = pd.read_csv('./data/train.csv')\n",
    "cat_names = [c for c in trainmlp.columns if 'cat' in c]\n",
    "\n",
    "trainmlp = pd.get_dummies(data=trainmlp, columns=cat_names)\n",
    "\n",
    "features_mlp = [x for x in trainmlp.columns if x not in ['id','loss']]\n",
    "\n",
    "trainmlp_x = np.array(trainmlp[features_mlp])\n",
    "trainmlp_y = np.array(trainmlp['loss'])\n",
    "\n",
    "mlp_xtr, mlp_xte, mlp_ytr, mlp_yte = train_test_split(trainmlp_x, trainmlp_y, test_size=0.25, random_state=31337)\n",
    "\n",
    "print (\"Let's see that we haven't messed up with data split:\")\n",
    "print (\"Training set X:\", mlp_xtr.shape, \"Y:\", mlp_ytr.shape)\n",
    "print (\"Test set X:\", mlp_xte.shape, \"Y:\", mlp_yte.shape)"
   ]
  },
  {
   "cell_type": "markdown",
   "metadata": {},
   "source": [
    "### Preparing the L0-models\n",
    "\n",
    "Now we just take our final models for XGBoost and MLP. Of course, we could have found more models to add to the stacker."
   ]
  },
  {
   "cell_type": "code",
   "execution_count": 7,
   "metadata": {},
   "outputs": [],
   "source": [
    "# XGBoost\n",
    "\n",
    "reg_xgb = XGBoostRegressor(num_boost_round=200, eta=0.07, gamma=0.2, max_depth=8, min_child_weight=6,\n",
    "                colsample_bytree=0.6, subsample=0.9)"
   ]
  },
  {
   "cell_type": "code",
   "execution_count": 8,
   "metadata": {},
   "outputs": [],
   "source": [
    "# MLP\n",
    "\n",
    "def hyper_model():\n",
    "    model = Sequential()\n",
    "    model.add(Dense(351, input_dim=len(features_mlp), init='glorot_normal'))\n",
    "    model.add(BatchNormalization())\n",
    "    model.add(Activation('relu'))\n",
    "    model.add(Dropout(0.578947))\n",
    "    \n",
    "    model.add(Dense(293, init='glorot_normal'))\n",
    "    model.add(BatchNormalization())\n",
    "    model.add(Activation('relu'))\n",
    "    model.add(Dropout(0.26666))\n",
    "    \n",
    "    model.add(Dense(46, init='glorot_normal'))\n",
    "    model.add(BatchNormalization())\n",
    "    model.add(Activation('relu'))\n",
    "    model.add(Dropout(0.188888))\n",
    "    \n",
    "    model.add(Dense(1, init='glorot_normal'))\n",
    "    model.compile(loss='mae', optimizer='adadelta')\n",
    "    return model"
   ]
  },
  {
   "cell_type": "markdown",
   "metadata": {},
   "source": [
    "## Out-of-fold predictions\n",
    "\n",
    "Now we divide our training set `xg_xtr, xg_ytr` (xgboost), `mlp_xtr, mlp_ytr` (mlp) into k-folds (3), train on 2/3 folds and predict the third fold. We persist the results to files to get back to them later on.\n",
    "\n",
    "We also save test labels (`*_test_fold_*`) to make sure that the fold generator splits data the same fashion for XGBoost and MLP and we can stack their predictions side by side."
   ]
  },
  {
   "cell_type": "code",
   "execution_count": 9,
   "metadata": {},
   "outputs": [],
   "source": [
    "# XGBoost\n",
    "if not USE_PRETRAINED:\n",
    "    folds = KFold(len(xg_ytr), shuffle=False, n_folds=3)\n",
    "\n",
    "    for k, (train_index, test_index) in enumerate(folds):\n",
    "        xtr = xg_xtr[train_index]\n",
    "        ytr = xg_ytr[train_index]\n",
    "        xte, yte = xg_xtr[test_index], xg_ytr[test_index]\n",
    "        reg_xgb = XGBoostRegressor(num_boost_round=200, eta=0.09, gamma=0.1, max_depth=8, min_child_weight=6,\n",
    "                        colsample_bytree=0.9, subsample=0.8)\n",
    "        reg_xgb.fit(xtr, ytr)\n",
    "        np.savetxt('ensemble/xgb_pred_fold_{}.txt'.format(k), np.exp(reg_xgb.predict(xte)))\n",
    "        np.savetxt('ensemble/xgb_test_fold_{}.txt'.format(k), yte)"
   ]
  },
  {
   "cell_type": "code",
   "execution_count": 10,
   "metadata": {},
   "outputs": [],
   "source": [
    "# MLP\n",
    "if not USE_PRETRAINED:\n",
    "    folds = KFold(len(mlp_ytr), shuffle=False, n_folds=3)\n",
    "    for k, (train_index, test_index) in enumerate(folds):\n",
    "        xtr = mlp_xtr[train_index]\n",
    "        ytr = mlp_ytr[train_index]\n",
    "        xte, yte = mlp_xtr[test_index], mlp_ytr[test_index]\n",
    "        reg_mlp = hyper_model()\n",
    "        fit = reg_mlp.fit(xtr, ytr, batch_size=128, nb_epoch=30, verbose=0)\n",
    "        pred = reg_mlp.predict(xte, batch_size=256)\n",
    "        np.savetxt('ensemble/mlp_pred_fold_{}.txt'.format(k), pred)\n",
    "        np.savetxt('ensemble/mlp_test_fold_{}.txt'.format(k), yte)"
   ]
  },
  {
   "cell_type": "markdown",
   "metadata": {},
   "source": [
    "## Training on the whole dataset\n",
    "\n",
    "We train the same models on the whole training set (`xg_xtr, mlp_xtr` and corresponding labels) and generate predictions for the test set (`xg_xte, mlp_xte`). Remember that we do have labels for the test set, but we don't allow our L0-model see them."
   ]
  },
  {
   "cell_type": "code",
   "execution_count": 11,
   "metadata": {},
   "outputs": [],
   "source": [
    "# XGBoost\n",
    "if not USE_PRETRAINED:\n",
    "    reg_xgb = XGBoostRegressor(num_boost_round=200, eta=0.09, gamma=0.1, max_depth=8, min_child_weight=6,\n",
    "                  colsample_bytree=0.9, subsample=0.8)\n",
    "    reg_xgb.fit(xg_xtr, xg_ytr)\n",
    "    np.savetxt('ensemble/xgb_pred_test.txt'.format(k), np.exp(reg_xgb.predict(xg_xte)))"
   ]
  },
  {
   "cell_type": "code",
   "execution_count": 12,
   "metadata": {},
   "outputs": [],
   "source": [
    "# MLP\n",
    "if not USE_PRETRAINED:\n",
    "    reg_mlp = hyper_model()\n",
    "    fit = reg_mlp.fit(mlp_xtr, mlp_ytr, batch_size=128, nb_epoch=30, verbose=0)\n",
    "    pred = reg_mlp.predict(mlp_xte, batch_size=256)\n",
    "    np.savetxt('ensemble/mlp_pred_test.txt'.format(k), pred)"
   ]
  },
  {
   "cell_type": "markdown",
   "metadata": {},
   "source": [
    "## L1-model training\n",
    "\n",
    "When the previous stage is completed, we have generated out-of-fold and test set predictions, which we can now use to train the stacker.\n",
    "\n",
    "First, we load predictions:"
   ]
  },
  {
   "cell_type": "code",
   "execution_count": 13,
   "metadata": {},
   "outputs": [],
   "source": [
    "train_xgb1 = np.loadtxt('ensemble/xgb_pred_fold_0.txt')\n",
    "train_xgb2 = np.loadtxt('ensemble/xgb_pred_fold_1.txt')\n",
    "train_xgb3 = np.loadtxt('ensemble/xgb_pred_fold_2.txt')\n",
    "\n",
    "train_mlp1 = np.loadtxt('ensemble/mlp_pred_fold_0.txt')\n",
    "train_mlp2 = np.loadtxt('ensemble/mlp_pred_fold_1.txt')\n",
    "train_mlp3 = np.loadtxt('ensemble/mlp_pred_fold_2.txt')"
   ]
  },
  {
   "cell_type": "markdown",
   "metadata": {},
   "source": [
    "### Sanity check \\#1\n",
    "We load labels to check that we haven't messed up with folds:"
   ]
  },
  {
   "cell_type": "code",
   "execution_count": 14,
   "metadata": {},
   "outputs": [],
   "source": [
    "xgb_test_fold1 = np.exp(np.loadtxt('ensemble/xgb_test_fold_0.txt'))\n",
    "xgb_test_fold2 = np.exp(np.loadtxt('ensemble/xgb_test_fold_1.txt'))\n",
    "xgb_test_fold3 = np.exp(np.loadtxt('ensemble/xgb_test_fold_2.txt'))\n",
    "\n",
    "mlp_test_fold1 = np.loadtxt('ensemble/mlp_test_fold_0.txt')\n",
    "mlp_test_fold2 = np.loadtxt('ensemble/mlp_test_fold_1.txt')\n",
    "mlp_test_fold3 = np.loadtxt('ensemble/mlp_test_fold_2.txt')"
   ]
  },
  {
   "cell_type": "code",
   "execution_count": 15,
   "metadata": {},
   "outputs": [],
   "source": [
    "# Recreating the original set of training set labels:\n",
    "\n",
    "xgb_test_fold = np.hstack((xgb_test_fold1, xgb_test_fold2, xgb_test_fold3))\n",
    "mlp_test_fold = np.hstack((mlp_test_fold1, mlp_test_fold2, mlp_test_fold3))"
   ]
  },
  {
   "cell_type": "code",
   "execution_count": 16,
   "metadata": {},
   "outputs": [
    {
     "data": {
      "text/plain": [
       "1.1180932118489165e-12"
      ]
     },
     "execution_count": 16,
     "metadata": {},
     "output_type": "execute_result"
    }
   ],
   "source": [
    "# And testing that these labels completely match (there's still a little rounding error due to log-exp conversion):\n",
    "\n",
    "mean_absolute_error(xgb_test_fold, mlp_test_fold)"
   ]
  },
  {
   "cell_type": "markdown",
   "metadata": {},
   "source": [
    "### This is basically zero. Labels from two fold generators match and we can go on."
   ]
  },
  {
   "cell_type": "markdown",
   "metadata": {},
   "source": [
    "### Sanity check \\#2\n",
    "\n",
    "Now we load the predictions for the whole test set:"
   ]
  },
  {
   "cell_type": "code",
   "execution_count": 17,
   "metadata": {},
   "outputs": [],
   "source": [
    "test_xgb = np.loadtxt('ensemble/xgb_pred_test.txt')\n",
    "test_mlp = np.loadtxt('ensemble/mlp_pred_test.txt')"
   ]
  },
  {
   "cell_type": "markdown",
   "metadata": {},
   "source": [
    "### We should check that MAE from combined out-of-fold predictions is reasonable:"
   ]
  },
  {
   "cell_type": "code",
   "execution_count": 18,
   "metadata": {},
   "outputs": [],
   "source": [
    "# Combined out-of-fold predictions for XGBoost and MLP\n",
    "\n",
    "train_xgb_folds = np.hstack((train_xgb1, train_xgb2, train_xgb3))\n",
    "train_mlp_folds = np.hstack((train_mlp1, train_mlp2, train_mlp3))"
   ]
  },
  {
   "cell_type": "code",
   "execution_count": 19,
   "metadata": {},
   "outputs": [
    {
     "data": {
      "text/plain": [
       "1155.1388944371015"
      ]
     },
     "execution_count": 19,
     "metadata": {},
     "output_type": "execute_result"
    }
   ],
   "source": [
    "# MAE of XGBoost combined predictions\n",
    "\n",
    "mean_absolute_error(np.exp(xg_ytr), train_xgb_folds)"
   ]
  },
  {
   "cell_type": "code",
   "execution_count": 20,
   "metadata": {},
   "outputs": [
    {
     "data": {
      "text/plain": [
       "1147.367184299818"
      ]
     },
     "execution_count": 20,
     "metadata": {},
     "output_type": "execute_result"
    }
   ],
   "source": [
    "# MAE of MLP combined predictions\n",
    "\n",
    "mean_absolute_error(mlp_ytr, train_mlp_folds)"
   ]
  },
  {
   "cell_type": "markdown",
   "metadata": {},
   "source": [
    "\n",
    "Predictions are around 1150-1155: this is exactly what we expect from these models.\n",
    "\n",
    "We do the same for the test set and get scores for each single model. The score of the best single model is our baseline score for the stacker (our stacker should perform better than any given single model)."
   ]
  },
  {
   "cell_type": "code",
   "execution_count": 21,
   "metadata": {},
   "outputs": [
    {
     "name": "stdout",
     "output_type": "stream",
     "text": [
      "Baseline MAE which we need to improve with stacking, XGB: 1152.2006603472637; MLP: 1148.0359189095834.\n"
     ]
    }
   ],
   "source": [
    "mae_xgb_test = mean_absolute_error(np.exp(xg_yte), test_xgb)\n",
    "mae_mlp_test = mean_absolute_error(mlp_yte, test_mlp)\n",
    "print (\"Baseline MAE which we need to improve with stacking, XGB: {}; MLP: {}.\".format(mae_xgb_test, mae_mlp_test))"
   ]
  },
  {
   "cell_type": "markdown",
   "metadata": {},
   "source": [
    "Predictions on test should be close to 1145-1150."
   ]
  },
  {
   "cell_type": "markdown",
   "metadata": {},
   "source": [
    "### Training L1-model\n",
    "\n",
    "Finally, it's time to join the predictions of L0-models and train a stacker over them."
   ]
  },
  {
   "cell_type": "code",
   "execution_count": 22,
   "metadata": {},
   "outputs": [],
   "source": [
    "l1_train_x = np.vstack((train_xgb_folds, train_mlp_folds)).T\n",
    "l1_test_x = np.vstack((test_xgb, test_mlp)).T\n",
    "l1_train_y = mlp_ytr\n",
    "l1_test_y = mlp_yte"
   ]
  },
  {
   "cell_type": "code",
   "execution_count": 23,
   "metadata": {},
   "outputs": [
    {
     "name": "stdout",
     "output_type": "stream",
     "text": [
      "Xtrain shape: (141238, 2)\n",
      "ytrain shape: (141238,)\n",
      "Xtest shape: (47080, 2)\n",
      "ytest shape: (47080,)\n"
     ]
    }
   ],
   "source": [
    "# Just a sanity check\n",
    "print (\"Xtrain shape:\", l1_train_x.shape)\n",
    "print (\"ytrain shape:\", l1_train_y.shape)\n",
    "print (\"Xtest shape:\", l1_test_x.shape)\n",
    "print (\"ytest shape:\", l1_test_y.shape)"
   ]
  },
  {
   "cell_type": "markdown",
   "metadata": {},
   "source": [
    "The choice of the algorithm for L1 is crucial. The problem is that we don't want it overfit on the training set, and it can be very easily done. To reduce the possibility of overfitting, we should take a very simple regressor, and LinearRegression is the ideal candidate for us.\n",
    "\n",
    "We now fit a very basic linear regression and get the predictions for the final test set:"
   ]
  },
  {
   "cell_type": "code",
   "execution_count": 103,
   "metadata": {},
   "outputs": [
    {
     "name": "stdout",
     "output_type": "stream",
     "text": [
      "[[1020.42718506  999.43988037]\n",
      " [1167.49963379 1045.68322754]\n",
      " [1069.88916016 1060.41333008]\n",
      " ...\n",
      " [3103.23144531 2856.31298828]\n",
      " [2170.16210938 1978.93310547]\n",
      " [1309.57043457 1438.5657959 ]] [ 986.06 1753.14 1792.7  ... 3394.84 1587.2  1602.7 ] [[2618.94726562 2671.17944336]\n",
      " [2938.3972168  3014.97021484]\n",
      " [1104.91955566 1443.08862305]\n",
      " ...\n",
      " [3623.34277344 3300.77807617]\n",
      " [1988.98425293 2522.15234375]\n",
      " [ 581.17321777  847.07281494]] [  47.20170534   71.47767004 -134.8282622  ...  115.67379634  -10.83454155\n",
      " -270.34439429]\n"
     ]
    }
   ],
   "source": [
    "reg = LinearRegression()\n",
    "\n",
    "# Note that normalizing the data in case of linear models is very important\n",
    "reg.fit(np.log(l1_train_x), np.log(l1_train_y))\n",
    "pred = reg.predict(np.log(l1_test_x))\n",
    "\n",
    "\n",
    "print(l1_train_x, l1_train_y, l1_test_x, pred)"
   ]
  },
  {
   "cell_type": "code",
   "execution_count": 104,
   "metadata": {},
   "outputs": [
    {
     "data": {
      "image/png": "[encoded data removed]",
      "text/plain": [
       "<Figure size 432x288 with 1 Axes>"
      ]
     },
     "metadata": {},
     "output_type": "display_data"
    }
   ],
   "source": [
    "plt.plot(l1_train_x)\n",
    "plt.show()"
   ]
  },
  {
   "cell_type": "code",
   "execution_count": 105,
   "metadata": {},
   "outputs": [
    {
     "data": {
      "image/png": "[encoded data removed]",
      "text/plain": [
       "<Figure size 432x288 with 1 Axes>"
      ]
     },
     "metadata": {},
     "output_type": "display_data"
    }
   ],
   "source": [
    "plt.plot(l1_train_y)\n",
    "plt.show()"
   ]
  },
  {
   "cell_type": "code",
   "execution_count": 89,
   "metadata": {},
   "outputs": [
    {
     "name": "stdout",
     "output_type": "stream",
     "text": [
      "[[1020.42718506  999.43988037]\n",
      " [1167.49963379 1045.68322754]\n",
      " [1069.88916016 1060.41333008]\n",
      " ...\n",
      " [3103.23144531 2856.31298828]\n",
      " [2170.16210938 1978.93310547]\n",
      " [1309.57043457 1438.5657959 ]] [ 986.06 1753.14 1792.7  ... 3394.84 1587.2  1602.7 ] [[2618.94726562 2671.17944336]\n",
      " [2938.3972168  3014.97021484]\n",
      " [1104.91955566 1443.08862305]\n",
      " ...\n",
      " [3623.34277344 3300.77807617]\n",
      " [1988.98425293 2522.15234375]\n",
      " [ 581.17321777  847.07281494]] [-5.96727313e+28  4.24492733e+29 -1.78960940e+30 ...  8.27448533e+29\n",
      " -2.70075348e+29 -2.62895483e+30]\n"
     ]
    }
   ],
   "source": [
    "reg = LinearRegression()\n",
    "\n",
    "# Note that normalizing the data in case of linear models is very important\n",
    "reg.fit(l1_train_x, l1_train_y)\n",
    "pred = reg.predict(l1_test_x)\n",
    "\n",
    "print(l1_train_x, l1_train_y, l1_test_x, pred)"
   ]
  },
  {
   "cell_type": "code",
   "execution_count": 63,
   "metadata": {},
   "outputs": [
    {
     "name": "stdout",
     "output_type": "stream",
     "text": [
      "[[6.92797663 6.907195  ]\n",
      " [7.06261968 6.95242576]\n",
      " [6.97531033 6.96641405]\n",
      " ...\n",
      " [8.04019925 7.95728691]\n",
      " [7.68255715 7.59031314]\n",
      " [7.17745445 7.27140192]] [6.8937172  7.46916374 7.49147814 ... 8.13001191 7.36972674 7.37944499] [[7.87052771 7.89027539]\n",
      " [7.98561955 8.01134523]\n",
      " [7.00752781 7.27454097]\n",
      " ...\n",
      " [8.1951523  8.1019135 ]\n",
      " [7.59537936 7.83286792]\n",
      " [6.36504885 6.74178666]] [-4.24358289e+11 -6.90736526e+11  1.14078211e+12 ... -9.83537493e+11\n",
      " -1.30911949e+11  2.41602495e+12]\n"
     ]
    }
   ],
   "source": [
    "print(np.log(l1_train_x), np.log(l1_train_y), np.log(l1_test_x), pred)"
   ]
  },
  {
   "cell_type": "code",
   "execution_count": 25,
   "metadata": {},
   "outputs": [
    {
     "ename": "ValueError",
     "evalue": "Input contains NaN, infinity or a value too large for dtype('float64').",
     "output_type": "error",
     "traceback": [
      "\u001b[0;31m---------------------------------------------------------------------------\u001b[0m",
      "\u001b[0;31mValueError\u001b[0m                                Traceback (most recent call last)",
      "\u001b[0;32m<ipython-input-25-6a05707fa6d2>\u001b[0m in \u001b[0;36m<module>\u001b[0;34m()\u001b[0m\n\u001b[0;32m----> 1\u001b[0;31m \u001b[0mmae_stacker\u001b[0m \u001b[0;34m=\u001b[0m \u001b[0mmean_absolute_error\u001b[0m\u001b[0;34m(\u001b[0m\u001b[0ml1_test_y\u001b[0m\u001b[0;34m,\u001b[0m \u001b[0mnp\u001b[0m\u001b[0;34m.\u001b[0m\u001b[0mexp\u001b[0m\u001b[0;34m(\u001b[0m\u001b[0mpred\u001b[0m\u001b[0;34m)\u001b[0m\u001b[0;34m)\u001b[0m\u001b[0;34m\u001b[0m\u001b[0m\n\u001b[0m\u001b[1;32m      2\u001b[0m \u001b[0;34m\u001b[0m\u001b[0m\n\u001b[1;32m      3\u001b[0m \u001b[0mprint\u001b[0m \u001b[0;34m(\u001b[0m\u001b[0;34m\"MAE for XGB:\"\u001b[0m\u001b[0;34m,\u001b[0m \u001b[0mmae_xgb_test\u001b[0m\u001b[0;34m)\u001b[0m\u001b[0;34m\u001b[0m\u001b[0m\n\u001b[1;32m      4\u001b[0m \u001b[0mprint\u001b[0m \u001b[0;34m(\u001b[0m\u001b[0;34m\"MAE for MLP:\"\u001b[0m\u001b[0;34m,\u001b[0m \u001b[0mmae_mlp_test\u001b[0m\u001b[0;34m)\u001b[0m\u001b[0;34m\u001b[0m\u001b[0m\n\u001b[1;32m      5\u001b[0m \u001b[0mprint\u001b[0m \u001b[0;34m(\u001b[0m\u001b[0;34m\"MAE for stacker:\"\u001b[0m\u001b[0;34m,\u001b[0m \u001b[0mmae_stacker\u001b[0m\u001b[0;34m)\u001b[0m\u001b[0;34m\u001b[0m\u001b[0m\n",
      "\u001b[0;32m~/anaconda3/lib/python3.6/site-packages/sklearn/metrics/regression.py\u001b[0m in \u001b[0;36mmean_absolute_error\u001b[0;34m(y_true, y_pred, sample_weight, multioutput)\u001b[0m\n\u001b[1;32m    168\u001b[0m     \"\"\"\n\u001b[1;32m    169\u001b[0m     y_type, y_true, y_pred, multioutput = _check_reg_targets(\n\u001b[0;32m--> 170\u001b[0;31m         y_true, y_pred, multioutput)\n\u001b[0m\u001b[1;32m    171\u001b[0m     output_errors = np.average(np.abs(y_pred - y_true),\n\u001b[1;32m    172\u001b[0m                                weights=sample_weight, axis=0)\n",
      "\u001b[0;32m~/anaconda3/lib/python3.6/site-packages/sklearn/metrics/regression.py\u001b[0m in \u001b[0;36m_check_reg_targets\u001b[0;34m(y_true, y_pred, multioutput)\u001b[0m\n\u001b[1;32m     75\u001b[0m     \u001b[0mcheck_consistent_length\u001b[0m\u001b[0;34m(\u001b[0m\u001b[0my_true\u001b[0m\u001b[0;34m,\u001b[0m \u001b[0my_pred\u001b[0m\u001b[0;34m)\u001b[0m\u001b[0;34m\u001b[0m\u001b[0m\n\u001b[1;32m     76\u001b[0m     \u001b[0my_true\u001b[0m \u001b[0;34m=\u001b[0m \u001b[0mcheck_array\u001b[0m\u001b[0;34m(\u001b[0m\u001b[0my_true\u001b[0m\u001b[0;34m,\u001b[0m \u001b[0mensure_2d\u001b[0m\u001b[0;34m=\u001b[0m\u001b[0;32mFalse\u001b[0m\u001b[0;34m)\u001b[0m\u001b[0;34m\u001b[0m\u001b[0m\n\u001b[0;32m---> 77\u001b[0;31m     \u001b[0my_pred\u001b[0m \u001b[0;34m=\u001b[0m \u001b[0mcheck_array\u001b[0m\u001b[0;34m(\u001b[0m\u001b[0my_pred\u001b[0m\u001b[0;34m,\u001b[0m \u001b[0mensure_2d\u001b[0m\u001b[0;34m=\u001b[0m\u001b[0;32mFalse\u001b[0m\u001b[0;34m)\u001b[0m\u001b[0;34m\u001b[0m\u001b[0m\n\u001b[0m\u001b[1;32m     78\u001b[0m \u001b[0;34m\u001b[0m\u001b[0m\n\u001b[1;32m     79\u001b[0m     \u001b[0;32mif\u001b[0m \u001b[0my_true\u001b[0m\u001b[0;34m.\u001b[0m\u001b[0mndim\u001b[0m \u001b[0;34m==\u001b[0m \u001b[0;36m1\u001b[0m\u001b[0;34m:\u001b[0m\u001b[0;34m\u001b[0m\u001b[0m\n",
      "\u001b[0;32m~/anaconda3/lib/python3.6/site-packages/sklearn/utils/validation.py\u001b[0m in \u001b[0;36mcheck_array\u001b[0;34m(array, accept_sparse, dtype, order, copy, force_all_finite, ensure_2d, allow_nd, ensure_min_samples, ensure_min_features, warn_on_dtype, estimator)\u001b[0m\n\u001b[1;32m    451\u001b[0m                              % (array.ndim, estimator_name))\n\u001b[1;32m    452\u001b[0m         \u001b[0;32mif\u001b[0m \u001b[0mforce_all_finite\u001b[0m\u001b[0;34m:\u001b[0m\u001b[0;34m\u001b[0m\u001b[0m\n\u001b[0;32m--> 453\u001b[0;31m             \u001b[0m_assert_all_finite\u001b[0m\u001b[0;34m(\u001b[0m\u001b[0marray\u001b[0m\u001b[0;34m)\u001b[0m\u001b[0;34m\u001b[0m\u001b[0m\n\u001b[0m\u001b[1;32m    454\u001b[0m \u001b[0;34m\u001b[0m\u001b[0m\n\u001b[1;32m    455\u001b[0m     \u001b[0mshape_repr\u001b[0m \u001b[0;34m=\u001b[0m \u001b[0m_shape_repr\u001b[0m\u001b[0;34m(\u001b[0m\u001b[0marray\u001b[0m\u001b[0;34m.\u001b[0m\u001b[0mshape\u001b[0m\u001b[0;34m)\u001b[0m\u001b[0;34m\u001b[0m\u001b[0m\n",
      "\u001b[0;32m~/anaconda3/lib/python3.6/site-packages/sklearn/utils/validation.py\u001b[0m in \u001b[0;36m_assert_all_finite\u001b[0;34m(X)\u001b[0m\n\u001b[1;32m     42\u001b[0m             and not np.isfinite(X).all()):\n\u001b[1;32m     43\u001b[0m         raise ValueError(\"Input contains NaN, infinity\"\n\u001b[0;32m---> 44\u001b[0;31m                          \" or a value too large for %r.\" % X.dtype)\n\u001b[0m\u001b[1;32m     45\u001b[0m \u001b[0;34m\u001b[0m\u001b[0m\n\u001b[1;32m     46\u001b[0m \u001b[0;34m\u001b[0m\u001b[0m\n",
      "\u001b[0;31mValueError\u001b[0m: Input contains NaN, infinity or a value too large for dtype('float64')."
     ]
    }
   ],
   "source": [
    "mae_stacker = mean_absolute_error(l1_test_y, np.exp(pred))\n",
    "\n",
    "print (\"MAE for XGB:\", mae_xgb_test)\n",
    "print (\"MAE for MLP:\", mae_mlp_test)\n",
    "print (\"MAE for stacker:\", mae_stacker)"
   ]
  },
  {
   "cell_type": "code",
   "execution_count": null,
   "metadata": {},
   "outputs": [],
   "source": []
  },
  {
   "cell_type": "code",
   "execution_count": null,
   "metadata": {},
   "outputs": [],
   "source": []
  }
 ],
 "metadata": {
  "kernelspec": {
   "display_name": "Python [conda env:anaconda3]",
   "language": "python",
   "name": "conda-env-anaconda3-py"
  },
  "language_info": {
   "codemirror_mode": {
    "name": "ipython",
    "version": 3
   },
   "file_extension": ".py",
   "mimetype": "text/x-python",
   "name": "python",
   "nbconvert_exporter": "python",
   "pygments_lexer": "ipython3",
   "version": "3.6.5"
  }
 },
 "nbformat": 4,
 "nbformat_minor": 2
}
