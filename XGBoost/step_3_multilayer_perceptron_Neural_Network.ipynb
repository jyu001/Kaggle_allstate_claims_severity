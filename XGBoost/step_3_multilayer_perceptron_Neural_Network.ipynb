{
 "cells": [
  {
   "cell_type": "markdown",
   "metadata": {},
   "source": [
    "# Part 3. Multilayer Perceptron Neural Network"
   ]
  },
  {
   "cell_type": "code",
   "execution_count": 1,
   "metadata": {},
   "outputs": [
    {
     "name": "stderr",
     "output_type": "stream",
     "text": [
      "/Users/macssd/anaconda3/lib/python3.6/site-packages/h5py/__init__.py:36: FutureWarning: Conversion of the second argument of issubdtype from `float` to `np.floating` is deprecated. In future, it will be treated as `np.float64 == np.dtype(float).type`.\n",
      "  from ._conv import register_converters as _register_converters\n",
      "Using TensorFlow backend.\n"
     ]
    }
   ],
   "source": [
    "import tensorflow as tf\n",
    "#tf.python.control_flow_ops = tf\n",
    "\n",
    "import pandas as pd\n",
    "import numpy as np\n",
    "import sys\n",
    "import h5py\n",
    "import pickle\n",
    "import matplotlib.pyplot as plt\n",
    "from sklearn.linear_model import LinearRegression\n",
    "from sklearn.metrics import mean_absolute_error\n",
    "from sklearn.preprocessing import StandardScaler\n",
    "from sklearn.model_selection import GridSearchCV\n",
    "from hyperopt import fmin, tpe, hp, STATUS_OK, Trials\n",
    "from scipy.sparse import csr_matrix, hstack\n",
    "from sklearn.model_selection import KFold, train_test_split\n",
    "from keras.models import Sequential\n",
    "from keras.models import save_model, load_model\n",
    "from keras.layers.advanced_activations import PReLU\n",
    "from keras.layers import Dense, Dropout, Activation, BatchNormalization\n",
    "from keras.callbacks import EarlyStopping\n",
    "import matplotlib.patches as mpatches\n",
    "\n",
    "\n",
    "%matplotlib inline"
   ]
  },
  {
   "cell_type": "markdown",
   "metadata": {},
   "source": [
    "### We are going to build a multilayer perceptron (MLP), a simple feedforward neuron network without cycles formed. In feedforward networks, information flows from input function x through intermediate (hidden) layers of fully connected units to the output of y.\n",
    "\n",
    "Terminology. We use the terminology from Karpathy's CS231n course. If a network consists of an input layer, a single hidden layer and an output layer, this is a **2-layer network** (we omit an input layer). If we add another hidden layer, we get a **3-layer network**, etc.\n",
    "\n",
    "To compute the hidden layer values and to yield nonlinear transformations, we need to choose activation functions for our network. We also need to design the overall architecture of the network which includes the following assumptions: how many hidden layers our MLP should contain, how many units there should be in each layer, whether we use regularization techniques (e.g. dropout), which gradient descent optimizer to choose and how to initialize weights for units."
   ]
  },
  {
   "cell_type": "markdown",
   "metadata": {},
   "source": [
    "## A note on computational complexity\n",
    "I had a hard time reducing the computational complexity of my MLPs. Finally, I decided to provide one of my production models (and methodology) I used at Kaggle, because it's somewhat unfair to compare the scores of different handicapped MLPs. Starting from Step 5, a special hardware (a modern GPU with enough memory) will be required to follow my computations. There are several ways to approach this issue:\n",
    "\n",
    "* (obvious) Use a good machine and follow through all the steps. An alternative would be to start up a EC2 AWS instance, specifically, p2.xlarge, a GPU-compute optimized instance. I wrote down a short guideline for AWS as well as the bash script which sets the system up. An Ireland-based spot instance will cost about $0.15-0.20 per compute-hour.\n",
    "\n",
    "* Run pretrained models (just like in the XGBoost part). There is a number of benefits for doing this. First, Hyperopt is not deterministic, thus, it won't provide the same results that I got. Second, it took me dozens of hours to test various combinations with Hyperopt (and the search is not over yet). Third, I'll provide a handicapped version of my final model which will be used in the ensemble. It won't be bagged (less stable), it will be trained on a small amount of epochs, but it should demonstrate some decent score.\n",
    "\n",
    "If you are not going to use pretrained models, change the following flag to False:"
   ]
  },
  {
   "cell_type": "code",
   "execution_count": 2,
   "metadata": {},
   "outputs": [],
   "source": [
    "USE_PRETRAINED = True"
   ]
  },
  {
   "cell_type": "markdown",
   "metadata": {},
   "source": [
    "# Framework\n",
    "As with XGBoost, we start simple and train a basic MLP to set a baseline score for the next models. Then we determine which potential configurations may work better for us and run optimizations. Neural networks are known for having a large number of possible hyperparameters to tune. Having said that, we need to reduce the search space analytically and then start testing more prominent configurations.\n",
    "\n",
    "Even more, neural networks can be easily overfitted, thus, a bias-variance tradeoff should be revisited. We'll pay a special attention to the monitoring of MLP training. While searching for a better model, a k-fold cross-validation will be the required technique to obtain a reasonable score estimate.\n",
    "\n",
    "The dataset will be split into the training and the validation subsets to introduce early stopping which terminates learning when the validation error starts to increase consistenly.\n",
    "\n",
    "## Methodology\n",
    "Methodologically, our process will be divided in the following steps:\n",
    "\n",
    "* Step 1. Define a basic neural network configuration, train it, get a score which will be used as the lower margin of MLP performance.\n",
    "* Step 2. Discuss the performance of a 2-layer model in context of bias-variance tradeoff and common issues: overfitting, instability due to high variance.\n",
    "* Step 3. Define a 3-layer model. Show the potential overfitting issues. Introduce cross-validation to prevent overfitting.\n",
    "* Step 4. Experiment with hyperparameters manually, train several prominent configurations with decent scores, cross-validate models.\n",
    "* Step 5. Introduce Hyperopt to test hyperparameters space and find out which are more robust.\n",
    "* Step 6. After several rounds of Hyperopt, define and train the winning model, cross-validate the results.\n",
    "\n",
    "## The use of Keras (frontend) and TensorFlow (backend)\n",
    "To define and train neural networks, we'll use Keras, a very straightforward and friendly library which works on top of TensorFlow (and Theano) with a minimum overhead. It's a great choice for experimentation and fast prototyping as it enables us to focus on the network configuration inself and not on the implementation of gradient descent, optimizers, backprop, details of weights initialization or activation functions. No doubt, we should have a solid understanding of how things work, but Keras is fine for our current purposes.\n",
    "\n",
    "Actually, Keras is so simple that it feels like cheating :)\n",
    "\n",
    "## The use of Keras (frontend) and TensorFlow (backend)\n",
    "To define and train neural networks, we'll use Keras, a very straightforward and friendly library which works on top of TensorFlow (and Theano) with a minimum overhead. It's a great choice for experimentation and fast prototyping as it enables us to focus on the network configuration inself and not on the implementation of gradient descent, optimizers, backprop, details of weights initialization or activation functions. No doubt, we should have a solid understanding of how things work, but Keras is fine for our current purposes.\n",
    "\n",
    "Actually, Keras is so simple that it feels like cheating :)\n",
    "\n",
    "We are going to approximate gradient over the batches of data since this method is more cost efficient (due to vectorized computations) and provides a faster convergence than to use a single training example at a time. Also, this is the default way to fit the model in Keras. We'll primarily use Adam gradient descent optimizer, though, any optimizer will be sufficient for our purposes (which is not true for Kaggle).\n",
    "\n",
    "## Basic data preprocessing\n",
    "We start with some data preprocessing. We need to convert categorical features with one-hot encoding and see how many dimensions we'll have afterwards."
   ]
  },
  {
   "cell_type": "code",
   "execution_count": 3,
   "metadata": {},
   "outputs": [
    {
     "name": "stdout",
     "output_type": "stream",
     "text": [
      "(188318, 1153)\n",
      "(188318,)\n"
     ]
    }
   ],
   "source": [
    "train = pd.read_csv('./data/train.csv')\n",
    "\n",
    "cat_names = [c for c in train.columns if 'cat' in c]\n",
    "\n",
    "train = pd.get_dummies(data=train, columns=cat_names)\n",
    "\n",
    "features = [x for x in train.columns if x not in ['id','loss']]\n",
    "\n",
    "train_x = np.array(train[features])\n",
    "\n",
    "ntrain = train_x.shape[0]\n",
    "\n",
    "# np.log(train['loss'] + 200) provides\n",
    "# a better score, but let's keep it simple now\n",
    "train_y = np.array(train['loss'])\n",
    "\n",
    "print (train_x.shape)\n",
    "print (train_y.shape)"
   ]
  },
  {
   "cell_type": "markdown",
   "metadata": {},
   "source": [
    "## Step 1: 2-layer model definition and training\n",
    "\n",
    "Let's outline the architecture of our basic model. As we are training our first model, we start with just a single hidden layer architecture. Such an approach is recommended from [multiple](http://stackoverflow.com/questions/10565868/multi-layer-perceptron-mlp-architecture-criteria-for-choosing-number-of-hidde) [sources](http://www.deeplearningbook.org/contents/guidelines.html). The beauty of training a simple model is that it's harder to overfit, it trains faster and we get the results quicker.\n",
    "> After choosing performance metrics and goals, the next step in any practical application is to establish a reasonable end-to-end system as soon as possible.\n",
    "\n",
    "> *Ian Goodfellow and Yoshua Bengio and Aaron Courville, Deep Learning Book*\n",
    "\n",
    "Here's our first architecture:\n",
    "\n",
    "<table>\n",
    "<tr><td>\n",
    "<img src=\"http://cdn.rawgit.com/dnkirill/allstate_capstone/master/images/mlp1.svg\"></td>\n",
    "<td width=\"40%\">\n",
    "<p>This network contains just a single hidden layer with ReLU activation, which is connected with a single-unit output layer. All layers are dense, we don't implement dropout yet.</p>\n",
    "\n",
    "<p><b>Input layer</b> consists of `train_x.shape[1] + 1` nodes: all our features and the bias term. Keras adds it automatically if we don't specifically set `bias=False` while initializing [Dense](https://github.com/fchollet/keras/blob/master/keras/layers/core.py) layer.</p>\n",
    "\n",
    "<p>A single <b>hidden layer</b> consists of 128 nodes with ReLU activation function.</p>\n",
    "\n",
    "<p><b>Output layer</b> is just a single unit (this is a regression problem) with `mean_absolute_error` objective we are trying to optimize. After computing the loss, the model starts calculating gradients and backpropagating them to input layer through the hidden layer.</p>\n",
    "</td>\n",
    "</tr></table>\n",
    "\n",
    "Now it's time to define our model and start training. **The purpose of this section is to revisit the bias-variance tradeoff, but not to train the optimal model.**\n",
    "\n",
    "Right now, we *won't* use cross-validation and just plot the learining curve using the validation subset taken from the training set. We'll return to CV later in this section.\n",
    "\n",
    "My first assumption is that the nonlinear relationships in dataset will require several hidden layers and a single hidden layer model will struggle to fit this data. This will result in underfitting. In other words, our model is supposed to be biased. \n",
    "\n",
    "To test this out, we train a model with a single hidden layer, observe its performance and only then we go deeper."
   ]
  },
  {
   "cell_type": "code",
   "execution_count": 4,
   "metadata": {},
   "outputs": [],
   "source": [
    "def mlp_model():\n",
    "    model = Sequential()\n",
    "    model.add(Dense(128, input_dim=train_x.shape[1]))\n",
    "    model.add(Activation('relu'))\n",
    "    model.add(Dense(1))\n",
    "    model.compile(loss='mae', optimizer='adam')\n",
    "    return model\n",
    "\n",
    "_stdout = sys.stdout"
   ]
  },
  {
   "cell_type": "markdown",
   "metadata": {},
   "source": [
    "If we set verbose flag to 1, Jupyter may get stuck (text cell overflow). Let's pipeline stdout to a file. An easy way to monitor the training would be to `tail -f mlp_v1_out.txt` from command line."
   ]
  },
  {
   "cell_type": "code",
   "execution_count": 5,
   "metadata": {},
   "outputs": [
    {
     "name": "stdout",
     "output_type": "stream",
     "text": [
      "CPU times: user 213 ms, sys: 19.8 ms, total: 233 ms\n",
      "Wall time: 328 ms\n"
     ]
    }
   ],
   "source": [
    "%%time\n",
    "# Model: mlp_v1\n",
    "mlp = mlp_model()    \n",
    "\n",
    "if USE_PRETRAINED: \n",
    "    \n",
    "    # These .h5 models contain all the weights of a MLP\n",
    "    # They are not really required for the project, but may\n",
    "    # be useful to glance how trained models are saved\n",
    "    #'''\n",
    "    # load model weights \n",
    "    mlp.load_weights(\"pretrained/mlp_v1.h5\")\n",
    "    #'''\n",
    "    with open('pretrained/mlp_v1_hist.pkl', 'rb') as f:\n",
    "        hist = pickle.load(f)\n",
    "\n",
    "else:\n",
    "    sys.stdout = open('mlp_v1_out.txt', 'w')\n",
    "    fit = mlp.fit(train_x, train_y, validation_split=0.2, \n",
    "                  batch_size=128, epochs=40, verbose=1)\n",
    "    hist = fit.history\n",
    "    \n",
    "    # save model weights to HDF5\n",
    "    mlp.save_weights('pretrained/mlp_v1.h5')\n",
    "    pck = open('pretrained/mlp_v1_hist.pkl', 'wb')\n",
    "    pickle.dump(hist, pck)\n",
    "    pck.close()"
   ]
  },
  {
   "cell_type": "code",
   "execution_count": 6,
   "metadata": {},
   "outputs": [
    {
     "data": {
      "text/plain": [
       "('Validation loss by epoch 40:', 1177.5666949872557)"
      ]
     },
     "execution_count": 6,
     "metadata": {},
     "output_type": "execute_result"
    }
   ],
   "source": [
    "\"Validation loss by epoch 40:\", hist['val_loss'][-1]"
   ]
  },
  {
   "cell_type": "code",
   "execution_count": 7,
   "metadata": {},
   "outputs": [],
   "source": [
    "models_history = {}\n",
    "models_history['mlp_v1'] = hist"
   ]
  },
  {
   "cell_type": "code",
   "execution_count": 8,
   "metadata": {},
   "outputs": [
    {
     "data": {
      "image/png": "[encoded data removed]",
      "text/plain": [
       "<Figure size 1152x360 with 2 Axes>"
      ]
     },
     "metadata": {},
     "output_type": "display_data"
    }
   ],
   "source": [
    "# Now we plot 1) the loss on training set throughout learning, 2) zoom in the last 20 epochs:\n",
    "\n",
    "def plot_mlp_loss(history, title):\n",
    "    fig, (ax1, ax2) = plt.subplots(1,2)\n",
    "    fig.set_size_inches(16,5)\n",
    "\n",
    "    ax1.set_title('{} 40 epochs'.format(title))\n",
    "    ax1.set_xlabel('Epochs')\n",
    "    ax1.set_ylabel('Loss')\n",
    "    ax1.grid(True)\n",
    "    ax1.plot(history['loss'], label='Training Loss')\n",
    "    ax1.plot(history['val_loss'], label='Validation Loss')\n",
    "    ax1.legend()\n",
    "\n",
    "    ax2.set_title('{} last 20 epochs'.format(title))\n",
    "    ax2.set_xlabel('Epochs')\n",
    "    ax2.set_ylabel('Loss')\n",
    "    ax2.grid(True)\n",
    "    ax2.set_xticklabels(range(20,40,2))\n",
    "    ax2.plot(history['loss'][20:40], label='Training Loss')\n",
    "    ax2.plot(history['val_loss'][20:40], label='Validation Loss')\n",
    "    ax2.legend()\n",
    "    \n",
    "plot_mlp_loss(models_history['mlp_v1'], 'mlp_v1')"
   ]
  },
  {
   "cell_type": "markdown",
   "metadata": {},
   "source": [
    "## Step 2: Performance of a 2-layer MLP\n",
    "To my surprise, this model performed really well. From the plots we see that the validation error still decreases by the epoch 40. Such a model lacks extreme predictive power, but we still get many benefits:\n",
    "\n",
    "\n",
    "* There are no signs of overfitting. This model naturally avoids overfitting and the difference between training and validation errors is small, which is a good feature.\n",
    "\n",
    "\n",
    "* This model is quite stable (no excessive variance). I run it a number of times, and every time I got a predictable score.\n",
    "\n",
    "\n",
    "* It's been fit rapidly. In a prodution environment, this feature can be crucial, e.g., we may have to frequently retrain models or our hardware may be slow enough to force us exclude complex models.\n",
    "\n",
    "\n",
    "### Increasing the batch size\n",
    "To speed the training up, we can increase the `batch_size` which will effectively decrease the amount of iterations of loss calculations per epoch. There is a tradeoff: we win on training time, but (due to a rougher gradient approximation) we lose on model's predictive power. Also, the further we increase the batch size, the less we win on training time.\n",
    "\n",
    "Let's train the same model on `batch_size=256` and see the results."
   ]
  },
  {
   "cell_type": "code",
   "execution_count": 9,
   "metadata": {},
   "outputs": [
    {
     "name": "stdout",
     "output_type": "stream",
     "text": [
      "CPU times: user 56.5 ms, sys: 1.75 ms, total: 58.3 ms\n",
      "Wall time: 60.3 ms\n"
     ]
    }
   ],
   "source": [
    "%%time\n",
    "\n",
    "mlp = mlp_model()\n",
    "\n",
    "if USE_PRETRAINED:\n",
    "    #mlp = load_model('pretrained/mlp_v2.h5')\n",
    "    with open('pretrained/mlp_v2_hist.pkl', 'rb') as f:\n",
    "        hist = pickle.load(f)\n",
    "else:\n",
    "    sys.stdout = open('mlp_v2_out.txt', 'w')\n",
    "    fit = mlp.fit(train_x, train_y, validation_split=0.2, \n",
    "                  batch_size=256, epochs=40, verbose=1)\n",
    "    hist = fit.history\n",
    "    # save model weights to HDF5\n",
    "    mlp.save_weights('pretrained/mlp_v2.h5')\n",
    "    pck = open('pretrained/mlp_v2_hist.pkl', 'wb')\n",
    "    pickle.dump(hist, pck)\n",
    "    pck.close()"
   ]
  },
  {
   "cell_type": "code",
   "execution_count": 10,
   "metadata": {},
   "outputs": [
    {
     "data": {
      "text/plain": [
       "('Validation loss by epoch 40:', 1181.1653176358725)"
      ]
     },
     "execution_count": 10,
     "metadata": {},
     "output_type": "execute_result"
    }
   ],
   "source": [
    "models_history['mlp_v2'] = hist\n",
    "\n",
    "\"Validation loss by epoch 40:\", hist['val_loss'][-1]"
   ]
  },
  {
   "cell_type": "code",
   "execution_count": 11,
   "metadata": {},
   "outputs": [
    {
     "data": {
      "image/png": "[encoded data removed]",
      "text/plain": [
       "<Figure size 1152x360 with 2 Axes>"
      ]
     },
     "metadata": {},
     "output_type": "display_data"
    }
   ],
   "source": [
    "plot_mlp_loss(models_history['mlp_v2'], 'mlp_v2')"
   ]
  },
  {
   "cell_type": "markdown",
   "metadata": {},
   "source": [
    "We see, we got a slight performance drop when we increased the batch size. Depending on your current machine, there may or may not be benefits in doing this (different machines showed different results). The final decision, of course, depends on the task we need to accomplish. In this capstone, I'll switch back to batch_size=128."
   ]
  },
  {
   "cell_type": "markdown",
   "metadata": {},
   "source": [
    "### Increasing the number of units in the hidden layer\n",
    "Next, we'll test a little stronger model by adding more units to the hidden layer (doubling the amount of units from 128 to 256). Do we get an improvement on the validation set?"
   ]
  },
  {
   "cell_type": "code",
   "execution_count": 12,
   "metadata": {},
   "outputs": [],
   "source": [
    "def mlp_model():\n",
    "    model = Sequential()\n",
    "    model.add(Dense(256, input_dim=train_x.shape[1]))\n",
    "    model.add(Activation('relu'))\n",
    "    model.add(Dense(1))\n",
    "    model.compile(loss='mae', optimizer='adam')\n",
    "    return model"
   ]
  },
  {
   "cell_type": "code",
   "execution_count": 13,
   "metadata": {},
   "outputs": [],
   "source": [
    "mlp = mlp_model()\n",
    "\n",
    "if USE_PRETRAINED:\n",
    "    #mlp = load_model('pretrained/mlp_v3.h5')\n",
    "    with open('pretrained/mlp_v3_hist.pkl', 'rb') as f:\n",
    "        hist = pickle.load(f)\n",
    "else:\n",
    "    sys.stdout = open('mlp_v3_out.txt', 'w')\n",
    "    fit = mlp.fit(train_x, train_y, validation_split=0.2, \n",
    "                  batch_size=128, epochs=40, verbose=1)\n",
    "    hist = fit.history\n",
    "    # save model weights to HDF5\n",
    "    mlp.save_weights('pretrained/mlp_v3.h5')\n",
    "    pck = open('pretrained/mlp_v3_hist.pkl', 'wb')\n",
    "    pickle.dump(hist, pck)\n",
    "    pck.close()"
   ]
  },
  {
   "cell_type": "code",
   "execution_count": 14,
   "metadata": {},
   "outputs": [
    {
     "data": {
      "text/plain": [
       "('Validation loss by epoch 40:', 1175.1260373383734)"
      ]
     },
     "execution_count": 14,
     "metadata": {},
     "output_type": "execute_result"
    }
   ],
   "source": [
    "models_history['mlp_v3'] = hist\n",
    "\n",
    "\"Validation loss by epoch 40:\", hist['val_loss'][-1]"
   ]
  },
  {
   "cell_type": "code",
   "execution_count": 15,
   "metadata": {},
   "outputs": [
    {
     "data": {
      "image/png": "[encoded data removed]",
      "text/plain": [
       "<Figure size 1152x360 with 2 Axes>"
      ]
     },
     "metadata": {},
     "output_type": "display_data"
    }
   ],
   "source": [
    "plot_mlp_loss(models_history['mlp_v3'], 'mlp_v3')"
   ]
  },
  {
   "cell_type": "markdown",
   "metadata": {},
   "source": [
    "We notice a small improvement both in training loss and in validation loss if we compare the plots of `mlp_v1` and `mlp_v3`. The improvement is not drastic, but it's visible.\n",
    "\n",
    "Moreover, I also trained the 1024-unit network and got peculiar results:\n",
    "\n",
    "* It can be overfitted, starting from epoch 115.\n",
    "\n",
    "\n",
    "* Validation loss reached 1145 at the lowest point.\n",
    "\n",
    "\n",
    "* 3-fold CV showed MAE = 1171 (by epoch 120). This is not the worst performance for a single unbagged model when we consider that this is a one-layer network with a limited nonlinearity.\n",
    "\n",
    "\n",
    "I haven't yet introduced CV, but I calculated a 3-fold CV (the function will be presented soon) for `mlp_v1` regardless this fact: MAE = 1190.73 (40 epochs), 1186.55 (120 epochs, no visible overfitting). As we expected, the predictive power of a 128-unit model is quite limited.\n",
    "\n",
    "We could increase the number of units even further, and, according to the [universal approximation theorem](https://en.wikipedia.org/wiki/Universal_approximation_theorem), we approximate any continuous function in Euclidean space. From the practical point of view, this is not the best option: the number of units should be exponentially larger.\n",
    "\n",
    "### To conclude this section and to move forward, I'd like to highlight the \"start with the simplest\" approach. As we've just seen, even a simple one hidden layer network shows a decent performance."
   ]
  },
  {
   "cell_type": "markdown",
   "metadata": {},
   "source": [
    "## Step 3: 3-layer model: CV and overfitting demo\n",
    "\n",
    "<table>\n",
    "<tr><td>\n",
    "<img src=\"http://cdn.rawgit.com/dnkirill/allstate_capstone/master/images/mlp2.svg\"></td>\n",
    "<td width=\"35%\">\n",
    "<p>This network contains two hidden layers with ReLU activation. The second hidden layer is connected with a single-unit output layer. All layers are dense.</p>\n",
    "\n",
    "<p><b>Input layer</b> consists of `train_x.shape[1] + 1` nodes: all our features and the bias term.</p>\n",
    "\n",
    "<p><b>Both hidden layers</b> consist of units with ReLU activation function.</p>\n",
    "\n",
    "<p><b>Output layer</b> is just a single unit with `mean_absolute_error` objective we are trying to optimize.</p>\n",
    "\n",
    "<p><b>Cross-validation</b> becomes essential since we reach the point where the model becomes powerful enough to capture nonlinear relationships in training set and easily overfit. We should be able to detect it with CV.</p>\n",
    "\n",
    "<p>To prevent overfitting, we introduce <b>dropout</b> and randomly nullify activations of units in hidden layers.</p>\n",
    "</td>\n",
    "</tr></table>\n",
    "\n",
    "### Cross-validation\n",
    "First, we introduce cross-validation. We'll use a 3-fold CV which is just a rough estimate of a better 5-fold or 10-fold CV. On the other hand, we just need to capture trends and are not very interested in the maximum precision. On Kaggle, I use 5-fold CV.\n",
    "\n",
    "There are several points to be mentioned:\n",
    "\n",
    "* As usual, cross-validation is built on top of `cross_validation.KFold` class from `sklearn`.\n",
    "\n",
    "\n",
    "* To prevent errors, we require passing a _function_ of a model, not the object itself. Otherwise, we may find ourselves in an awkward position where we train the same model on different folds.\n",
    "\n",
    "\n",
    "* We add early stopping with a small value of patience. After a number of trials, `patience=5` was found quite a reasonable value (my production model uses `patience=8`, though)."
   ]
  },
  {
   "cell_type": "code",
   "execution_count": 16,
   "metadata": {},
   "outputs": [],
   "source": [
    "def cross_validate_mlp(mlp_func, nfolds=3):\n",
    "    #folds = KFold(len(train_y), n_folds=nfolds, shuffle=True, random_state = 31337)\n",
    "    folds = KFold(n_splits=nfolds, shuffle=True, random_state = 31337)\n",
    "    val_scores = np.zeros((nfolds,))\n",
    "    #for k,(train_index, test_index) in enumerate(folds):\n",
    "    for k,(train_index, test_index) in enumerate(folds.split(train_x)):\n",
    "        xtr = train_x[train_index]\n",
    "        ytr = train_y[train_index]\n",
    "        xte = train_x[test_index]\n",
    "        yte = train_y[test_index]\n",
    "        mlp = mlp_func()\n",
    "        early_stopping = EarlyStopping(monitor='val_loss', patience=5)\n",
    "        fit = mlp.fit(xtr, ytr, validation_split=0.2, batch_size=128, \n",
    "                      epochs=30, verbose=1, callbacks=[early_stopping])\n",
    "        pred = mlp.predict(xte, batch_size=256)\n",
    "        score = mean_absolute_error(yte, pred)\n",
    "        val_scores[k] += score\n",
    "        print ('Fold {}, MAE: {}'.format(k, score))\n",
    "    avg_score = np.sum(val_scores) / float(nfolds)\n",
    "    print ('{}-fold CV score: {}'.format(nfolds, avg_score))\n",
    "    return avg_score"
   ]
  },
  {
   "cell_type": "markdown",
   "metadata": {},
   "source": [
    "# Danger of overfitting, an example\n",
    "Neural (especially deep) networks are known for their tendency to overfitting. The more nonlinear transformations we allow our network to make (by adding more hidden layers), the easier our model may get overfit.\n",
    "\n",
    "To show that overfitting is very real and easily achievable, we train a model without any regularization. Basically, we just add one more layer to our previous models. We increase the number of units to visualize overfitting better, but the same result can be obtained without such an increase.\n",
    "\n",
    "We split training set into training and validation. For now, I decided to use `train_test_split` from `sklearn`, though we could use `validation_split` parameter from `Sequential.fit` method again."
   ]
  },
  {
   "cell_type": "code",
   "execution_count": 17,
   "metadata": {},
   "outputs": [],
   "source": [
    "xtr, xte, ytr, yte = train_test_split(train_x, train_y, test_size=0.25, random_state=31337)"
   ]
  },
  {
   "cell_type": "code",
   "execution_count": 18,
   "metadata": {},
   "outputs": [],
   "source": [
    "def mlp_model():\n",
    "    model = Sequential()\n",
    "    model.add(Dense(1024, input_dim=xtr.shape[1]))\n",
    "    model.add(Activation('relu'))\n",
    "    model.add(Dense(512))\n",
    "    model.add(Activation('relu'))\n",
    "    model.add(Dense(1))\n",
    "    model.compile(loss='mae', optimizer='adam')\n",
    "    return model"
   ]
  },
  {
   "cell_type": "code",
   "execution_count": 19,
   "metadata": {},
   "outputs": [],
   "source": [
    "# We train the model and visualize the results:\n",
    "\n",
    "mlp = mlp_model()\n",
    "\n",
    "if USE_PRETRAINED:\n",
    "    \n",
    "    # This model weights 20 MB and I decided to exclude it\n",
    "    # from the repository. If you still need it, you can download it from S3:\n",
    "    \n",
    "    # !wget https://s3-eu-west-1.amazonaws.com/kd-allstate/mlp_v4.h5 -d pretrained\n",
    "    # mlp = load_model('pretrained/mlp_v4.h5')\n",
    "    \n",
    "    with open('pretrained/mlp_v4_hist.pkl', 'rb') as f:\n",
    "        hist = pickle.load(f)\n",
    "else:\n",
    "    sys.stdout = open('mlp_v4_out.txt', 'w')\n",
    "    fit = mlp.fit(xtr, ytr, batch_size=128, validation_data=(xte,yte),\n",
    "                  epochs=40, verbose=1)\n",
    "    hist = fit.history\n",
    "    mlp.save_weights('pretrained/mlp_v4.h5')\n",
    "    pck = open('pretrained/mlp_v4_hist.pkl', 'wb')\n",
    "    pickle.dump(hist, pck)\n",
    "    pck.close()"
   ]
  },
  {
   "cell_type": "code",
   "execution_count": 20,
   "metadata": {},
   "outputs": [],
   "source": [
    "models_history['mlp_v4'] = hist\n",
    "sys.stdout = _stdout"
   ]
  },
  {
   "cell_type": "code",
   "execution_count": 21,
   "metadata": {},
   "outputs": [
    {
     "name": "stdout",
     "output_type": "stream",
     "text": [
      "Training loss by epoch 40: 824.2126558973359\n",
      "Validation loss by epoch 40: 1246.5515167417825\n"
     ]
    }
   ],
   "source": [
    "#If we print a training loss after 40 epoch, we'll see an alarmingly good score:\n",
    "print ('Training loss by epoch 40:', models_history['mlp_v4']['loss'][-1])\n",
    "\n",
    "# But the validation loss is out of sync with the training loss:\n",
    "print (\"Validation loss by epoch 40:\", hist['val_loss'][-1])"
   ]
  },
  {
   "cell_type": "code",
   "execution_count": 22,
   "metadata": {},
   "outputs": [
    {
     "data": {
      "image/png": "[encoded data removed]",
      "text/plain": [
       "<Figure size 648x360 with 1 Axes>"
      ]
     },
     "metadata": {},
     "output_type": "display_data"
    }
   ],
   "source": [
    "# We clearly see the overfitted model when we plot loss on training and validation sets. One of the effects of overfitting is the increasing gap between validation and training errors, as we see from the plots below:\n",
    "\n",
    "plt.figure(figsize=(9,5))\n",
    "plt.title('Overfitted model')\n",
    "plt.xlabel('Epochs')\n",
    "plt.ylabel('Loss')\n",
    "plt.grid(True)\n",
    "plt1, = plt.plot(models_history['mlp_v4']['loss'], label='Training Loss')\n",
    "plt2, = plt.plot(models_history['mlp_v4']['val_loss'], label='Validation Loss')\n",
    "fill = plt.fill_between(range(3,40,1),models_history['mlp_v4']['loss'][3:],\n",
    "                 models_history['mlp_v4']['val_loss'][3:], alpha=0.2, color='cyan')\n",
    "\n",
    "overfit_legend = mpatches.Patch(color='cyan', alpha=0.2, label='Overfitting')\n",
    "handles = [plt1, plt2, overfit_legend]\n",
    "plt.legend(handles, ['Training Loss','Validation Loss','Overfitting'])\n",
    "\n",
    "plt.show()"
   ]
  },
  {
   "cell_type": "markdown",
   "metadata": {},
   "source": [
    "Such models will fail to generalize. To cope with overfitting, we have several regularization techniques in our toolbox:\n",
    "\n",
    "* Dropout\n",
    "\n",
    "\n",
    "* Batch Normalization\n",
    "\n",
    "\n",
    "* Early Stopping\n",
    "\n",
    "\n",
    "* Running the model several times and bagging results."
   ]
  },
  {
   "cell_type": "markdown",
   "metadata": {},
   "source": [
    "## Step 4: List hyperparameters. Manually cross-validating models\n",
    "\n",
    "Let's now step back and reevaluate different hyperparameters we have to decide on:\n",
    "\n",
    "* **Number of hidden layers**: we now have two hidden layers, we pushed a single hidden layer model to its maximum, but we still have a possibility to train deeper models.\n",
    "\n",
    "\n",
    "* **Number of hidden units**: both in hidden layer #1 and hidden layer #2.\n",
    "\n",
    "\n",
    "* **Dropout rates**: both in hidden layer #1 and hidden layer #2.\n",
    "\n",
    "\n",
    "* **Activation function**. We will consistently use ReLU throughout the project. I tested both ReLU and [Parametric ReLU](https://arxiv.org/abs/1502.01852) (a generalization upon ReLU which beat ReLU score in ImageNet-2012 classification), but I didn't find any significant score increase with PReLU.\n",
    "\n",
    "\n",
    "* **Early stopping parameters**: number of epochs, value of patience. We'll limit the number of epochs to 30 to speed up training time. In my production model, I used 70 epochs with `patience=8`.\n",
    "\n",
    "\n",
    "* **Gradient descent optimizer**: we mostly use ADAM, but my final model uses [Adadelta](http://sebastianruder.com/optimizing-gradient-descent/index.html#adadelta).\n",
    "\n",
    "\n",
    "* **Weights initialization**. Glorot uniform is the default, but my final model uses glorot normal. This is the result of Hyperopt search. \n",
    "\n",
    "\n",
    "* **Learning rate, learning rate decay**. We'll keep them default.\n",
    "\n",
    "\n",
    "Actually, there are even more considerations we should take, but the point of listing hyperparameters is to show it's not enough to just add another layer, some dropout and think the work is done.\n",
    "\n",
    "Nevertheless, we start by doing just this: defining several 3-layer configurations, doing a manual CV over them and picking the one with the best CV score.\n",
    "\n",
    "**Configurations:**\n",
    "\n",
    "| Model Name | Hidden Layers | Hidden Layer #1 Units | Hidden Layer #2 Units | Hidden Layer #1 Dropout | Hidden Layer #2 Dropout |\n",
    "|------------|---------------|-----------------------|-----------------------|-------------------------|-------------------------|\n",
    "| mlp_v5     | 2             | 64                    | 16                    | 0.3                     | 0.2                     |\n",
    "| mlp_v6     | 2             | 128                   | 32                    | 0.4                     | 0.3                     |\n",
    "| mlp_v7     | 2             | 256                   | 64                    | 0.5                     | 0.4                     |"
   ]
  },
  {
   "cell_type": "code",
   "execution_count": 23,
   "metadata": {},
   "outputs": [],
   "source": [
    "def mlp_v5():\n",
    "    model = Sequential()\n",
    "    model.add(Dense(64, input_dim=train_x.shape[1]))\n",
    "    model.add(Activation('relu'))\n",
    "    model.add(Dropout(0.3))\n",
    "    model.add(Dense(16))\n",
    "    model.add(Activation('relu'))\n",
    "    model.add(Dropout(0.2))\n",
    "    model.add(Dense(1))\n",
    "    model.compile(loss='mae', optimizer='adam')\n",
    "    return model\n",
    "\n",
    "def mlp_v6():\n",
    "    model = Sequential()\n",
    "    model.add(Dense(128, input_dim=train_x.shape[1]))\n",
    "    model.add(Activation('relu'))\n",
    "    model.add(Dropout(0.4))\n",
    "    model.add(Dense(32))\n",
    "    model.add(Activation('relu'))\n",
    "    model.add(Dropout(0.3))\n",
    "    model.add(Dense(1))\n",
    "    model.compile(loss='mae', optimizer='adam')\n",
    "    return model\n",
    "\n",
    "def mlp_v7():\n",
    "    model = Sequential()\n",
    "    model.add(Dense(256, input_dim=train_x.shape[1]))\n",
    "    model.add(Activation('relu'))\n",
    "    model.add(Dropout(0.5))\n",
    "    model.add(Dense(64))\n",
    "    model.add(Activation('relu'))\n",
    "    model.add(Dropout(0.4))\n",
    "    model.add(Dense(1))\n",
    "    model.compile(loss='mae', optimizer='adam')\n",
    "    return model"
   ]
  },
  {
   "cell_type": "code",
   "execution_count": 24,
   "metadata": {},
   "outputs": [],
   "source": [
    "# Cross-validation and score evaluation\n",
    "scores = {}\n",
    "\n",
    "if USE_PRETRAINED:\n",
    "    with open('pretrained/mlp_v5_v6_v7_scores.pkl', 'rb') as f:\n",
    "        scores = pickle.load(f)\n",
    "else:\n",
    "    sys.stdout = open('mlp_v5_v6_v7_out.log', 'w')\n",
    "    for i, model_func in enumerate([mlp_v5, mlp_v6, mlp_v7]):\n",
    "        score = cross_validate_mlp(model_func)\n",
    "        scores[model_func.__name__] = score\n",
    "    sys.stdout = _stdout\n",
    "    \n",
    "    pck = open('pretrained/mlp_v5_v6_v7_scores.pkl', 'wb')\n",
    "    pickle.dump(scores, pck)\n",
    "    pck.close()"
   ]
  },
  {
   "cell_type": "code",
   "execution_count": 25,
   "metadata": {},
   "outputs": [
    {
     "data": {
      "text/plain": [
       "{'mlp_v5': 1190.679404685374,\n",
       " 'mlp_v6': 1184.5598319200892,\n",
       " 'mlp_v7': 1175.8509762258452}"
      ]
     },
     "execution_count": 25,
     "metadata": {},
     "output_type": "execute_result"
    }
   ],
   "source": [
    "scores"
   ]
  },
  {
   "cell_type": "markdown",
   "metadata": {},
   "source": [
    "Your performance may be different, but I got the following scores:\n",
    "\n",
    "`\n",
    "{'mlp_v5': 1190.679404685374,\n",
    " 'mlp_v6': 1184.5598319200892,\n",
    " 'mlp_v7': 1175.8509762258452}\n",
    "`\n",
    " \n",
    "The best model of these three (`mlp_v7`) shows a worse score (1175), than our single layer model with 1024 units (1171)! We now see that it takes **much** more effort to train a deeper model. Though, we shouldn't forget that we specifically limited our training to 30 epochs now (which we didn't for that single hidden layer model).\n",
    "\n",
    "After CV, we list two baseline configurations:\n",
    "\n",
    "* **2-layer model**. Hidden units: 1024. Epochs: 115.\n",
    "* **3-layer model**. Hidden units: 256, 64. Dropout: 0.5, 0.4. Epochs: 30."
   ]
  },
  {
   "cell_type": "markdown",
   "metadata": {},
   "source": [
    "## Step 5: Hyperopt MLP hyperparameters tuning\n",
    "\n",
    "After doing a CV over manually chosen models, we may want to automate this process and search over many more combinations. Unfortunately, there's no fast way to tune the hyperparameters of a neural network. \n",
    "\n",
    "To search over the space of hyperparameters, I introduce [Hyperopt](https://github.com/hyperopt/hyperopt), a model-agnostic library for advanced parallel hyperparams optimization. Hyperopt represents a Bayesian approach to optimization: the library uses the prior knowledge to make more intelligent assumptions what combination of parameters to try next.\n",
    "\n",
    "I'll just briefly touch upon it, because it may and will take an enormous amount of time to train and validate multiple combinations of hyperparams via Hyperopt. Anyway, it's a reliable and popular library which is heavily (ab)used on Kaggle.\n",
    "\n",
    "My methodology is based on [an post on fastml.com blog](http://fastml.com/optimizing-hyperparams-with-hyperopt/), which brings a 3-step process:\n",
    "\n",
    "1. Describe the search space: all hyperparameters and their possible values.\n",
    "\n",
    "2. Implement a function to minimize (our Keras model which minimizes the loss).\n",
    "\n",
    "3. Analyze and pick scores.\n",
    "\n",
    "### 4 versions of Hyperopt search\n",
    "\n",
    "This Hyperopt code is for demo only. I commented out the code which actually starts Hyperopt.\n",
    "\n",
    "Running the following optimization will literally require **days** on any ordinary PC. To test that the code works, uncomment the lines with `fmin` function calls.  I'd recommend running it and seeing its output from a command-line: \n",
    "\n",
    "`$ tail -f hyperopt_v1.log`\n",
    "\n",
    "Then you should interrupt kernel and move on."
   ]
  },
  {
   "cell_type": "code",
   "execution_count": 26,
   "metadata": {},
   "outputs": [],
   "source": [
    "# We need to define the search space for Hyperopt\n",
    "# Conditionals are used to maintain the structure of the network\n",
    "# Each hidden layer to the right has less units than the previous one\n",
    "\n",
    "# VERSION 1: two hidden layers, wide networks.\n",
    "\n",
    "# Describing the search space\n",
    "space = {'hidden1': hp.choice('hidden1', [\n",
    "            {\n",
    "                'hidden1_units': 256,\n",
    "                'hidden2': hp.choice('hidden2', [\n",
    "                        {\n",
    "                            'hidden2_units': 128\n",
    "                        }\n",
    "                    ]),\n",
    "                'hidden1_units': 512,\n",
    "                'hidden2': hp.choice('hidden2', [\n",
    "                        {\n",
    "                            'hidden2_units': hp.choice('hidden2_units', [128,256])\n",
    "                        }\n",
    "                    ]),\n",
    "                'hidden1_units': 768,\n",
    "                'hidden2': hp.choice('hidden2', [\n",
    "                        {\n",
    "                            'hidden2_units': hp.choice('hidden2_units', [128,256,512]),\n",
    "                        }\n",
    "                    ]),\n",
    "                'hidden1_units': 1024,\n",
    "                'hidden2': hp.choice('hidden2', [\n",
    "                        {\n",
    "                            'hidden2_units': hp.choice('hidden2_units', [128,256,512,768]),\n",
    "                        }\n",
    "                    ])\n",
    "            }]), \n",
    "        'hidden1_dropout': hp.uniform('hidden1_dropout', 0.1,0.6), \n",
    "        'hidden2_dropout': hp.uniform('hidden2_dropout', 0.1,0.5)}\n",
    "\n",
    "# Implementing a function to minimize\n",
    "def hyperopt_search(params):\n",
    "    print ('Model Testing:', params)\n",
    "    def mlp_model():\n",
    "        model = Sequential()\n",
    "        model.add(Dense(params['hidden1']['hidden1_units'], input_dim=train_x.shape[1]))\n",
    "        model.add(Activation('relu'))\n",
    "        model.add(Dropout(params['hidden1_dropout']))\n",
    "        \n",
    "        model.add(Dense(params['hidden1']['hidden2']['hidden2_units']))\n",
    "        model.add(Activation('relu'))\n",
    "        model.add(Dropout(params['hidden2_dropout']))\n",
    "        \n",
    "        model.add(Dense(1))\n",
    "        model.compile(loss='mae', optimizer='adam', metrics = [\"mae\"])\n",
    "        return model\n",
    "    \n",
    "    cv_score = cross_validate_mlp(mlp_model)\n",
    "    return {'loss': cv_score, 'status': STATUS_OK}\n",
    "\n",
    "# Run the optimization and see the results\n",
    "sys.stdout = open('hyperopt_v1.log', 'w')\n",
    "trials = Trials()\n",
    "\n",
    "# UNCOMMENT THE NEXT LINE TO LAUNCH HYPEROPT:\n",
    "# best = fmin(hyperopt_search, space, algo=tpe.suggest, max_evals = 50, trials=trials)"
   ]
  },
  {
   "cell_type": "code",
   "execution_count": 27,
   "metadata": {},
   "outputs": [],
   "source": [
    "# VERSION 2. Insights:\n",
    "# – increase the lower and upper bounds of dropout,\n",
    "# — the wider network doesn't seem to work well.\n",
    "\n",
    "# Describing the search space\n",
    "space = {'hidden1': hp.choice('hidden1', [\n",
    "            {\n",
    "                'hidden1_units': 128,\n",
    "                'hidden2': hp.choice('hidden2', [\n",
    "                        {\n",
    "                            'hidden2_units': 64\n",
    "                        }\n",
    "                    ]),\n",
    "                'hidden1_units': 256,\n",
    "                'hidden2': hp.choice('hidden2', [\n",
    "                        {\n",
    "                            'hidden2_units': hp.choice('hidden2_units', [32,64,128])\n",
    "                        }\n",
    "                    ]),\n",
    "\n",
    "                'hidden1_units': 512,\n",
    "                'hidden2': hp.choice('hidden2', [\n",
    "                        {\n",
    "                            'hidden2_units': hp.choice('hidden2_units', [32,64,128,256])\n",
    "                        }\n",
    "                    ])\n",
    "            }]), \n",
    "        'hidden1_dropout': hp.uniform('hidden1_dropout', 0.3,0.7), # Several rounds of hyperopt\n",
    "        'hidden2_dropout': hp.uniform('hidden2_dropout', 0.2,0.6)} # resulted in these values\n",
    "\n",
    "# Implementing a function to minimize\n",
    "def hyperopt_search(params):\n",
    "    print ('Model Testing:', params)\n",
    "    def mlp_model():\n",
    "        model = Sequential()\n",
    "        model.add(Dense(params['hidden1']['hidden1_units'], input_dim=train_x.shape[1]))\n",
    "        model.add(Activation('relu'))\n",
    "        model.add(Dropout(params['hidden1_dropout']))\n",
    "        \n",
    "        model.add(Dense(params['hidden1']['hidden2']['hidden2_units']))\n",
    "        model.add(Activation('relu'))\n",
    "        model.add(Dropout(params['hidden2_dropout']))\n",
    "        \n",
    "        model.add(Dense(1))\n",
    "        model.compile(loss='mae', optimizer='adam', metrics = [\"mae\"])\n",
    "        return model\n",
    "    \n",
    "    cv_score = cross_validate_mlp(mlp_model)\n",
    "    return {'loss': cv_score, 'status': STATUS_OK}\n",
    "\n",
    "# Run the optimization and see the results\n",
    "sys.stdout = open('hyperopt_v2.log', 'w')\n",
    "trials = Trials()\n",
    "\n",
    "# UNCOMMENT THE NEXT LINE TO LAUNCH HYPEROPT:\n",
    "# best = fmin(hyperopt_search, space, algo=tpe.suggest, max_evals = 50, trials=trials)"
   ]
  },
  {
   "cell_type": "code",
   "execution_count": 28,
   "metadata": {},
   "outputs": [],
   "source": [
    "# VERSION 3. Insights:\n",
    "# — models with two hidden layers and 256-128 units configuration work well\n",
    "# — let's optimize the number of units in layers with a more precise step\n",
    "\n",
    "# Describing the search space\n",
    "space = {'hidden1_dropout': hp.choice('hidden1_dropout', np.linspace(0.4,0.6,20)),\n",
    "        'hidden2_dropout': hp.choice('hidden2_dropout', np.linspace(0.2,0.5,10)),\n",
    "         'hidden1_units': hp.choice('hidden1_units', np.linspace(300,550,30,dtype='int16')),\n",
    "         'hidden2_units': hp.choice('hidden2_units', np.linspace(100,300,30,dtype='int16'))\n",
    "        }\n",
    "\n",
    "# Implementing a function to minimize\n",
    "def hyperopt_search(params):\n",
    "    print ('Model Testing:', params)\n",
    "    def mlp_model():\n",
    "        model = Sequential()\n",
    "        model.add(Dense(params['hidden1_units'], input_dim=train_x.shape[1]))\n",
    "        model.add(Activation('relu'))\n",
    "        model.add(Dropout(params['hidden1_dropout']))\n",
    "        \n",
    "        model.add(Dense(params['hidden2_units']))\n",
    "        model.add(Activation('relu'))\n",
    "        model.add(Dropout(params['hidden2_dropout']))\n",
    "\n",
    "        model.add(Dense(1))\n",
    "        model.compile(loss='mae', optimizer='adam', metrics = [\"mae\"])\n",
    "        return model\n",
    "    \n",
    "    cv_score = cross_validate_mlp(mlp_model)\n",
    "    return {'loss': cv_score, 'status': STATUS_OK}\n",
    "\n",
    "# Run the optimization and see the results\n",
    "sys.stdout = open('hyperopt_v3.log', 'w')\n",
    "trials = Trials()\n",
    "\n",
    "# UNCOMMENT THE NEXT LINE TO LAUNCH HYPEROPT:\n",
    "# best = fmin(hyperopt_search, space, algo=tpe.suggest, max_evals = 50, trials=trials)"
   ]
  },
  {
   "cell_type": "code",
   "execution_count": 29,
   "metadata": {},
   "outputs": [],
   "source": [
    "# VERSION 4. Insights:\n",
    "# – why not to test 4-layer architectures?\n",
    "# — we need to introduce new optimizers\n",
    "# — adding batch normalization (https://arxiv.org/abs/1502.03167)\n",
    "\n",
    "# Describing the search space\n",
    "space = {'hidden1_dropout': hp.choice('hidden1_dropout', np.linspace(0.4,0.6,20)),\n",
    "        'hidden2_dropout': hp.choice('hidden2_dropout', np.linspace(0.2,0.5,10)),\n",
    "        'hidden3_dropout': hp.choice('hidden3_dropout', np.linspace(0.1,0.5,10)),\n",
    "         'hidden1_units': hp.choice('hidden1_units', np.linspace(300,550,30,dtype='int16')),\n",
    "         'hidden2_units': hp.choice('hidden2_units', np.linspace(100,300,30,dtype='int16')),\n",
    "         'hidden3_units': hp.choice('hidden3_units', np.linspace(20,80,30,dtype='int16')),\n",
    "         'optimizer': hp.choice('optimizer', ['adam','nadam','adamax','adadelta'])\n",
    "        }\n",
    "\n",
    "# Implementing a function to minimize\n",
    "def hyperopt_search(params):\n",
    "    print ('Model Testing:', params)\n",
    "    def mlp_model():\n",
    "        model = Sequential()\n",
    "        model.add(Dense(params['hidden1_units'], input_dim=train_x.shape[1]))\n",
    "        model.add(BatchNormalization())\n",
    "        model.add(Activation('relu'))\n",
    "        model.add(Dropout(params['hidden1_dropout']))\n",
    "        \n",
    "        model.add(Dense(params['hidden2_units']))\n",
    "        model.add(BatchNormalization())\n",
    "        model.add(Activation('relu'))\n",
    "        model.add(Dropout(params['hidden2_dropout']))\n",
    "\n",
    "        model.add(Dense(params['hidden3_units'])) \n",
    "        model.add(BatchNormalization())\n",
    "        model.add(Activation('relu'))\n",
    "        model.add(Dropout(params['hidden3_dropout']))\n",
    "        \n",
    "        model.add(Dense(1))\n",
    "        model.compile(loss='mae', optimizer=params['optimizer'])\n",
    "        return model\n",
    "    \n",
    "    cv_score = cross_validate_mlp(mlp_model)\n",
    "    return {'loss': cv_score, 'status': STATUS_OK}\n",
    "\n",
    "# Run the optimization and see the results\n",
    "sys.stdout = open('hyperopt_v4.log', 'w')\n",
    "trials = Trials()\n",
    "\n",
    "# UNCOMMENT THE NEXT LINE TO LAUNCH HYPEROPT:\n",
    "# best = fmin(hyperopt_search, space, algo=tpe.suggest, max_evals = 50, trials=trials)"
   ]
  },
  {
   "cell_type": "markdown",
   "metadata": {},
   "source": [
    "## Step 6: The final model\n",
    "\n",
    "It took several rounds of optimization to narrow down the parameters of the model. Here are the results.\n",
    "\n",
    "First, the architecture. The final 4-layer model uses dropout as a regularization and a batch normalization prior to each hidden layer.\n",
    "\n",
    "<img src=\"http://cdn.rawgit.com/dnkirill/allstate_capstone/master/images/mlp3.svg\"></td>\n",
    "\n",
    "And this is the model itself:"
   ]
  },
  {
   "cell_type": "code",
   "execution_count": 30,
   "metadata": {},
   "outputs": [],
   "source": [
    "def hyper_model():\n",
    "    model = Sequential()\n",
    "    model.add(Dense(351, input_dim=train_x.shape[1], init='glorot_normal'))\n",
    "    model.add(BatchNormalization())\n",
    "    model.add(Activation('relu'))\n",
    "    model.add(Dropout(0.578947))\n",
    "    \n",
    "    model.add(Dense(293, init='glorot_normal'))\n",
    "    model.add(BatchNormalization())\n",
    "    model.add(Activation('relu'))\n",
    "    model.add(Dropout(0.26666))\n",
    "    \n",
    "    model.add(Dense(46, init='glorot_normal'))\n",
    "    model.add(BatchNormalization())\n",
    "    model.add(Activation('relu'))\n",
    "    model.add(Dropout(0.188888))\n",
    "    \n",
    "    model.add(Dense(1, init='glorot_normal'))\n",
    "    model.compile(loss='mae', optimizer='adadelta')\n",
    "    return model"
   ]
  },
  {
   "cell_type": "code",
   "execution_count": 31,
   "metadata": {},
   "outputs": [],
   "source": [
    "if USE_PRETRAINED:\n",
    "    with open('pretrained/mlp_f_score.pkl', 'rb') as f:\n",
    "        cv_score = pickle.load(f)\n",
    "else:\n",
    "    sys.stdout = open('mlp_final_out.txt', 'w')\n",
    "    cv_score = cross_validate_mlp(hyper_model)\n",
    "    \n",
    "    pck = open('pretrained/mlp_f_score.pkl', 'wb')\n",
    "    pickle.dump(cv_score, pck)\n",
    "    pck.close()"
   ]
  },
  {
   "cell_type": "code",
   "execution_count": 32,
   "metadata": {},
   "outputs": [],
   "source": [
    "sys.stdout = _stdout"
   ]
  },
  {
   "cell_type": "code",
   "execution_count": 33,
   "metadata": {},
   "outputs": [
    {
     "name": "stdout",
     "output_type": "stream",
     "text": [
      "CV score for the final model: 1149.1642219116384\n"
     ]
    }
   ],
   "source": [
    "print (\"CV score for the final model:\", cv_score)"
   ]
  },
  {
   "cell_type": "markdown",
   "metadata": {},
   "source": [
    "Though this model is not adapted for mere 30 epochs of training, nor for 3-fold CV (I used 5-fold on Kaggle), even though this is a single unbagged model which has been cross-validated on three folds only, we see a very good score:\n",
    "`CV = 1150` (your score may vary a little).\n",
    "\n",
    "By the way, this single model, bagged, 5-fold CVed, scored 1116.28 on Kaggle LB.\n",
    "\n",
    "As we see, this model is considerably better than any other models we had so far. We now take it as the second part of our final ensemble."
   ]
  },
  {
   "cell_type": "markdown",
   "metadata": {},
   "source": []
  },
  {
   "cell_type": "code",
   "execution_count": null,
   "metadata": {},
   "outputs": [],
   "source": []
  }
 ],
 "metadata": {
  "kernelspec": {
   "display_name": "Python [conda env:anaconda3]",
   "language": "python",
   "name": "conda-env-anaconda3-py"
  },
  "language_info": {
   "codemirror_mode": {
    "name": "ipython",
    "version": 3
   },
   "file_extension": ".py",
   "mimetype": "text/x-python",
   "name": "python",
   "nbconvert_exporter": "python",
   "pygments_lexer": "ipython3",
   "version": "3.6.5"
  }
 },
 "nbformat": 4,
 "nbformat_minor": 2
}
